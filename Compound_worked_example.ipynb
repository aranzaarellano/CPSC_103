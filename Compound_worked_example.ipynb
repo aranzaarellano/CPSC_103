{
 "cells": [
  {
   "cell_type": "markdown",
   "metadata": {},
   "source": [
    "## Problem\n",
    "\n",
    "Design a data definition to represent a Canadian address. An address contains an (optional) apartment number, a street number, a street name, a city, a postal code, and a province or territory."
   ]
  },
  {
   "cell_type": "markdown",
   "metadata": {},
   "source": [
    "## Solution\n",
    "\n",
    "The first thing I notice in this problem statement is that I need to design a data definition. I will open the Exam Sheet or the How to Design Data Definitions page so that I can be sure that I'm following the recipe.\n",
    "\n",
    "Now I can see from the recipe that I need to identify the inherent structure of the information. I see that an address is made up of many associated pieces of information, which tells me that an address will need to be a compound. \n",
    "\n",
    "Further, I need to decide what type to use for each field in the compound. I know that the apartment number and street number will both be positive whole numbers (at least I've never seen an apartment or street number that's not!), so I'll use an positive `int` for both of those fields. A street name and the city name should be strings because it's not possible to enumerate all of the names of streets or cities in Canada. A postal code is a tricky one; it has a very particular format, so I could choose to make a data definition to ensure that all postal codes in my program match the intended format. In this case, I don't want to worry about checking the formatting so I'll use a `str` to represent the postal code. I know that there are exactly 10 provinces and three territories in Canada, so the most appropriate choice would be an enumeration. Since we haven't yet learned how to reference other user-defined data types from our data definitions, I'll use a `str` for now. \n",
    "\n",
    "Now I've identified the inherent structure of all of the information and I've decided how I will represent that information as data in my program. I'm ready to start working on my data definition for address."
   ]
  },
  {
   "cell_type": "markdown",
   "metadata": {},
   "source": [
    "## Step 1: a data type definition\n",
    "\n",
    "I will use my previous work to create a data type definition for `Address`. First, I know that `Address` needs to be a compound so I can start writing the data type definition. For now, I'll leave the fields as an empty list.\n",
    "\n",
    "```python\n",
    "from cs103 import *\n",
    "from typing import NamedTuple\n",
    "\n",
    "Address = NamedTuple('Address', [])\n",
    "```\n",
    "\n",
    "Now I can start adding a field for every piece of the `Address`. I'll keep looking back at my previous work to help me remember what type each field should be.\n",
    "\n",
    "```python\n",
    "from cs103 import *\n",
    "from typing import NamedTuple\n",
    "\n",
    "Address = NamedTuple('Address', [('a_num', Optional[int]),   # in range[0, ...) \n",
    "                                 ('st_num', int),            # in range[0, ...)\n",
    "                                 ('st_name', str),\n",
    "                                 ('city', str),\n",
    "                                 ('postal', str),\n",
    "                                 ('prov', str)])\n",
    "```\n"
   ]
  },
  {
   "cell_type": "markdown",
   "metadata": {},
   "source": [
    "## Step 2: an interpretation comment that describes the correspondence between information and data\n",
    "\n",
    "Now I need to write the interpretation that will explain how to interpret the data in my program as information. \n",
    "\n",
    "```python\n",
    "from cs103 import *\n",
    "from typing import NamedTuple\n",
    "\n",
    "Address = NamedTuple('Address', [('a_num', Optional[int]),   # in range[0, ...) \n",
    "                                 ('st_num', int),            # in range[0, ...)\n",
    "                                 ('st_name', str),\n",
    "                                 ('city', str),\n",
    "                                 ('postal', str),\n",
    "                                 ('prov', str)])\n",
    "# interp. a Canadian address with an apartment number ('a_num' - will be None if \n",
    "#         there is no apartment number), street number ('st_num'), street name \n",
    "#         ('st_name'), city ('city'), postal code ('postal') and province or \n",
    "#         territory ('prov')\n",
    "```\n",
    "\n",
    "Note that I've described every field, and made sure that it's clear which information is represented by each field. Since the apartment number is an `Optional`, I made sure to describe what information `None` represents."
   ]
  },
  {
   "cell_type": "markdown",
   "metadata": {},
   "source": [
    "## Step 3: one or more examples of the data\n",
    "\n",
    "My goal when writing data examples is to illustrate how to create data examples of this type. I want to show the variation that is possible. In this case, I want to be sure to highlight that the apartment number is optional so I'll be sure to have at least one example where the apartment number is `None` and at least one example where it's a number.\n",
    "\n",
    "\n",
    "```python\n",
    "from cs103 import *\n",
    "from typing import NamedTuple\n",
    "\n",
    "Address = NamedTuple('Address', [('a_num', Optional[int]),   # in range[0, ...) \n",
    "                                 ('st_num', int),            # in range[0, ...)\n",
    "                                 ('st_name', str),\n",
    "                                 ('city', str),\n",
    "                                 ('postal', str),\n",
    "                                 ('prov', str)])\n",
    "# interp. a Canadian address with an apartment number ('a_num' - will be None if \n",
    "#         there is no apartment number), street number ('st_num'), street name \n",
    "#         ('st_name'), city ('city'), postal code ('postal') and province or \n",
    "#         territory ('prov')\n",
    "\n",
    "A1 = Address(None, 2366, 'Main Mall', 'Vancouver', 'V6T 1Z4', 'British Columbia')\n",
    "A2 = Address(254, 3241, 'West 12th Avenue', 'Vancouver', 'V8G 1J9', 'British Columbia')\n",
    "```"
   ]
  },
  {
   "cell_type": "markdown",
   "metadata": {},
   "source": [
    "## Step 4: a template for a one-argument function operating on data of this type\n",
    "\n",
    "As always, I'll start the template with the `def` line (and `@typecheck`). The function name follows the formula of `fn_for_type_name` (i.e. function for type name), so I know that this template function's name should be `fn_for_address`.\n",
    "\n",
    "```python\n",
    "@typecheck\n",
    "def fn_for_address\n",
    "```\n",
    "\n",
    "Now, I need to list the parameters and their types. I'm writing a one-argument template function so I know that this template function has exactly one parameter that is of type `Address`. Since this is a template function, I don't know what the return type should be so I'll use `...` as a placeholder. The `...` will be replaced with an actual type when this template is used in a function design.\n",
    "\n",
    "\n",
    "\n",
    "Now I need to look at the Data Driven Templates page to figure out what to put in the function body. An `Address` is a compound data type, so I'll look at the compound row in the table. When I look to the right-hand column in the compound row, I see that the template body needs to include all accessors.\n",
    "\n",
    "```python\n",
    "@typecheck\n",
    "def fn_for_address(a: Address) -> ...:\n",
    "\n",
    "    return ...(a.a_num,   # Optional[int] in range[0, ...) \n",
    "               a.st_num,  # int in range[0, ...) \n",
    "               a.st_name, # str\n",
    "               a.city,    # str\n",
    "               a.postal,  # str\n",
    "               a.postal)  # str\n",
    "```\n",
    "\n",
    "I don't need to write the type of each field in comments, but it helps me remember what I have to work with when I use this template in a function design."
   ]
  },
  {
   "cell_type": "markdown",
   "metadata": {},
   "source": [
    "A key thing to notice is that we are still using the How to Design Data recipe from Module 3. We have added a new data type (compound), but everything else is the same as it was in the last module."
   ]
  },
  {
   "cell_type": "code",
   "execution_count": 1,
   "metadata": {},
   "outputs": [],
   "source": [
    "# Final solution\n",
    "\n",
    "from cs103 import *\n",
    "from typing import NamedTuple\n",
    "\n",
    "Address = NamedTuple('Address', [('a_num', Optional[int]),   # in range[0, ...) \n",
    "                                 ('st_num', int),            # in range[0, ...)\n",
    "                                 ('st_name', str),\n",
    "                                 ('city', str),\n",
    "                                 ('postal', str),\n",
    "                                 ('prov', str)])\n",
    "# interp. a Canadian address with an apartment number ('a_num' - will be None if \n",
    "#         there is no apartment number), street number ('st_num'), street name \n",
    "#         ('st_name'), city ('city'), postal code ('postal') and province or \n",
    "#         territory ('prov')\n",
    "\n",
    "A1 = Address(None, 2366, 'Main Mall', 'Vancouver', 'V6T 1Z4', 'British Columbia')\n",
    "A2 = Address(254, 3241, 'West 12th Avenue', 'Vancouver', 'V8G 1J9', 'British Columbia')\n",
    "\n",
    "# template based on Compound (6 fields)\n",
    "@typecheck\n",
    "def fn_for_address(a: Address) -> ...:\n",
    "    return ...(a.a_num,   # Optional[int] in range[0, ...) \n",
    "               a.st_num,  # int in range[0, ...) \n",
    "               a.st_name, # str\n",
    "               a.city,    # str\n",
    "               a.postal,  # str\n",
    "               a.postal)  # str"
   ]
  }
 ],
 "metadata": {
  "kernelspec": {
   "display_name": "Python 3",
   "language": "python",
   "name": "python3"
  },
  "language_info": {
   "codemirror_mode": {
    "name": "ipython",
    "version": 3
   },
   "file_extension": ".py",
   "mimetype": "text/x-python",
   "name": "python",
   "nbconvert_exporter": "python",
   "pygments_lexer": "ipython3",
   "version": "3.6.6"
  }
 },
 "nbformat": 4,
 "nbformat_minor": 2
}
