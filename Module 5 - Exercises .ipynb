{
 "cells": [
  {
   "cell_type": "markdown",
   "metadata": {},
   "source": [
    "* The loop will run as many times until it reaches the item found (when using list to find a boolean)\n",
    "* a loop can tun 0,1, and infinity\n",
    "-  an empty list l[] will cause the loop to run 0 times\n",
    "\n",
    "We want to use a list if a single example value consists of many things\n",
    "\n",
    "You would represent the number of poeple coming in a hike with atomic data i.e. an int\n",
    "* each of them is just one value, it is just one number\n",
    "\n",
    "The name of people you would consider inviting in a hike with enumeration i.e. string\n",
    "* Each of them is a single value, it is just one name AND IT IS A FIXED LIST\n",
    "\n",
    "The names of all the people coming on a hike with you with arbitrary sized data\n",
    "* many people can come on a hike with you, and you can make friends there\n",
    "\n",
    "Any time you want to gather information, you will use an accumulator"
   ]
  },
  {
   "cell_type": "code",
   "execution_count": 1,
   "metadata": {},
   "outputs": [],
   "source": [
    "from cs103 import *\n",
    "from typing import List"
   ]
  },
  {
   "cell_type": "code",
   "execution_count": 2,
   "metadata": {},
   "outputs": [
    {
     "ename": "NameError",
     "evalue": "name 'unis' is not defined",
     "output_type": "error",
     "traceback": [
      "\u001b[0;31m---------------------------------------------------------------------------\u001b[0m",
      "\u001b[0;31mNameError\u001b[0m                                 Traceback (most recent call last)",
      "\u001b[0;32m<ipython-input-2-b56bcad99257>\u001b[0m in \u001b[0;36m<module>\u001b[0;34m()\u001b[0m\n\u001b[1;32m     10\u001b[0m \u001b[0mresult_so_far\u001b[0m \u001b[0;34m=\u001b[0m \u001b[0;34m...\u001b[0m \u001b[0;31m#type: ...\u001b[0m\u001b[0;34m\u001b[0m\u001b[0m\n\u001b[1;32m     11\u001b[0m \u001b[0;34m\u001b[0m\u001b[0m\n\u001b[0;32m---> 12\u001b[0;31m \u001b[0;32mfor\u001b[0m \u001b[0muni\u001b[0m \u001b[0;32min\u001b[0m \u001b[0munis\u001b[0m\u001b[0;34m:\u001b[0m\u001b[0;34m\u001b[0m\u001b[0m\n\u001b[0m\u001b[1;32m     13\u001b[0m     \u001b[0mresult_so_far\u001b[0m \u001b[0;34m=\u001b[0m \u001b[0;34m...\u001b[0m\u001b[0;34m(\u001b[0m\u001b[0muni\u001b[0m\u001b[0;34m,\u001b[0m \u001b[0mresult_so_far\u001b[0m\u001b[0;34m)\u001b[0m\u001b[0;34m\u001b[0m\u001b[0m\n\u001b[1;32m     14\u001b[0m \u001b[0;34m\u001b[0m\u001b[0m\n",
      "\u001b[0;31mNameError\u001b[0m: name 'unis' is not defined"
     ]
    }
   ],
   "source": [
    "# because there is not return statement, the loop will keep on running. This was intended to be written\n",
    "#using specifically with acc  \n",
    "\n",
    "# acc can also be portrayed as a result \n",
    "\n",
    "# the result of my function\n",
    "result = ... #type: ...\n",
    "\n",
    "# the result of my function from values seen so far\n",
    "result_so_far = ... #type: ... \n",
    "\n",
    "for uni in unis:\n",
    "    result_so_far = ...(uni, result_so_far)\n",
    "    \n",
    "return ... (result_so_far)\n",
    "\n",
    "#it would be bool because of the signature from the function definition\n",
    "# WHEN WE HAVE A NEW VALUE ADDED TO THE ACCUMULATOR\n",
    "\n",
    "result_so_far = False #type: ... #should be false because we have not seen it on the list\n",
    "\n",
    "for uni in unis:\n",
    "    if uno == \"UBC\":\n",
    "        result_so_far = True \n",
    "    else:\n",
    "        result_so_far = result_so_far\n",
    "      \n",
    "    \n",
    "return result_so_far #all of the list has finished executing \n",
    "\n"
   ]
  },
  {
   "cell_type": "code",
   "execution_count": 3,
   "metadata": {},
   "outputs": [],
   "source": [
    "words = [\"phone\", \"desk\", \"computers\"]\n",
    "\n",
    "res = \"\"\n",
    "\n",
    "for w in words:\n",
    "    res = res + w + \" \""
   ]
  },
  {
   "cell_type": "code",
   "execution_count": 4,
   "metadata": {},
   "outputs": [
    {
     "data": {
      "text/plain": [
       "'phone desk computers '"
      ]
     },
     "execution_count": 4,
     "metadata": {},
     "output_type": "execute_result"
    }
   ],
   "source": [
    "res"
   ]
  },
  {
   "cell_type": "markdown",
   "metadata": {},
   "source": [
    "Depending on where the statement Return is, is how many times a loop will iterate\n",
    "- if return is ooutside the loop, it will iterate throughout all the numbers in the list and assign value to res(acc) as it iterates\n",
    "- if return is inside the function, it will iterate until it reaches the value of True, and then it will return the answer"
   ]
  },
  {
   "cell_type": "markdown",
   "metadata": {},
   "source": [
    "Given a list of integers, write a function to move all zeros to the end of the list while maintaining the relative order of non-zero elements. "
   ]
  },
  {
   "cell_type": "code",
   "execution_count": 6,
   "metadata": {},
   "outputs": [],
   "source": [
    "# List [int]\n",
    "# interpret a list of integers\n",
    "\n",
    "@typecheck\n",
    "# template based on arbitrary-sized\n",
    "def fn_for_los(loi: List[int]) -> ...:\n",
    "    # description of accumulator\n",
    "    acc = ... #type: ...\n",
    "    \n",
    "    for s in los:\n",
    "        acc = ...(s, acc)\n",
    "        \n",
    "    return acc"
   ]
  },
  {
   "cell_type": "code",
   "execution_count": null,
   "metadata": {},
   "outputs": [],
   "source": [
    "@typecheck\n",
    "\n",
    "def movezeros(loi: List[int]) -> List[int]:\n",
    "    \"\"\"\n",
    "     move all zeros to the end of the list while maintaining the relative order of non-zero elements.\n",
    "    \"\"\"\n",
    "    # return [] #stub\n",
    "    # template from List[float]\n",
    "    \n",
    "   # accumulator will keep track of the front of the list\n",
    "    acc = 0 #type: int\n",
    "    \n",
    "    # assume our list is [0, 1, 0] THESE ARE OUR PARAMETERS\n",
    "    \n",
    "    for i in range(len(loi)):\n",
    "        # len(loi) will count the number of items in the list. i.e. len(loi) = 3\n",
    "        # range(len(loi)) will present a range of the input. i.e. range(3) = [0, 1, 2]. THIS WILL BE OUR INDEX\n",
    "        \n",
    "        if (loi[i] != 0): # loi[i] picks the paramenter of our list in the spot of our index. \n",
    "                        #i.e. i will start in 0, then 1, then 2. \n",
    "                # loi[0] = 0 , so it iterates to the next one\n",
    "                # loi[1] = 1, so it coninues to the next step since != 0\n",
    "                \n",
    "            temp = loi[acc] # STORING the value of the front of the list -> (position 0) loi[0] is paramenter 0\n",
    "            loi[acc] = loi[i] #modifying the value of loi[acc] -> loi[0] is paramenter 0 and will change to\n",
    "                                # parameter of index 1 i.e. loi[1] is parameter 1. so 0 will change to 1 \n",
    "                                # our list is then [1, 1, 0]\n",
    "            loi[i] = temp #Changes the value of our parameter 1. loi[1] is 1 and will change to loi[0] which is 0. the front of our list\n",
    "                             # our list is then [1, 0, 0]\n",
    "            acc = acc + 1 # the position of our fornt of the list so far is 1. it is stored in index(position) 1\n",
    "        \n",
    "    return loi\n",
    "\n",
    "start_testing()\n",
    "expect(movezeros([0, 1, 0]), [1, 0, 0])\n",
    "expect(movezeros([2, 8, 3]) [])\n",
    "expect(movezeros([3, 2, 0, 1]), \n",
    "\n",
    "summary()"
   ]
  }
 ],
 "metadata": {
  "kernelspec": {
   "display_name": "Python 3",
   "language": "python",
   "name": "python3"
  },
  "language_info": {
   "codemirror_mode": {
    "name": "ipython",
    "version": 3
   },
   "file_extension": ".py",
   "mimetype": "text/x-python",
   "name": "python",
   "nbconvert_exporter": "python",
   "pygments_lexer": "ipython3",
   "version": "3.6.6"
  }
 },
 "nbformat": 4,
 "nbformat_minor": 2
}
