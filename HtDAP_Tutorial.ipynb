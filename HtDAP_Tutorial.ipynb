{
 "cells": [
  {
   "cell_type": "code",
   "execution_count": 1,
   "metadata": {},
   "outputs": [],
   "source": [
    "from cs103 import *\n",
    "import csv"
   ]
  },
  {
   "cell_type": "markdown",
   "metadata": {},
   "source": [
    "# Tutorial Starter - Analysis Programs\n",
    "\n",
    "## Pre-Tutorial Work\n",
    "\n",
    "None this week"
   ]
  },
  {
   "cell_type": "markdown",
   "metadata": {},
   "source": [
    "## Overview\n",
    "\n",
    "You have a file containing information about newspapers' advertising revenue and circulation revenue.\n",
    "\n",
    "Take a look at the included file called `newspaper_advertising_and_circulation.csv` to see how it is structured. Two files containing small subsets of this information have also been  provided for testing purposes (`newspaper_advertising_and_circulation_test1.csv` and `newspaper_advertising_and_circulation_test2.csv`). You can find the original information [here](http://www.journalism.org/fact-sheet/newspapers/) (Note that the information for years 2013-2016 is estimated, not measured).\n",
    "\n",
    "Now that you have looked at the file, we'll complete the planning steps of the HtDAP recipe. "
   ]
  },
  {
   "cell_type": "markdown",
   "metadata": {},
   "source": [
    "#### Step 1a\n",
    "The file contains information about newspapers' circulation and advertising revenue between 1956 and 2016. The information for 2013-2016 is estimated, not measured. For each year, the advertising revenue and circulation revenue are given in thousands of US dollars. The circulation revenue is missing for 1990."
   ]
  },
  {
   "cell_type": "markdown",
   "metadata": {},
   "source": [
    "#### Step 1b\n",
    "\n",
    "Now, here are some ideas of what a program operating on this information might produce.\n",
    "\n",
    "We might find the year that had the biggest ratio of advertising revenue to circulation revenue.\n",
    "\n",
    "We might find the highest circulation revenue.\n",
    "\n",
    "We might plot the circulation revenue and advertising revenue over time.\n",
    "\n",
    "We might find the year that had the highest advertising revenue.\n",
    "\n",
    "We might find the change in advertising revenue for each year in comparison to the previous year as a percentage."
   ]
  },
  {
   "cell_type": "markdown",
   "metadata": {},
   "source": [
    "#### Step 1c\n",
    "Here's an  example that shows the kind of output we expect from this program:\n",
    "```python\n",
    "expect(main('newspaper_advertising_and_circulation.csv'), 2006)\n",
    "```\n"
   ]
  },
  {
   "cell_type": "markdown",
   "metadata": {},
   "source": [
    "## Problem 1\n",
    "\n",
    "Now it is time to start building the program. Using the planning steps completed above, determine the information that you will need to represent in your program as data. \n",
    "\n",
    "You must clearly state which pieces of information you will choose to repesent.\n",
    "\n",
    "*Note: We recommend that you only store information for years that have complete information. i.e. if the advertising revenue or circulation revenue is missing, ignore that row.*\n",
    "\n",
    "Then complete the design of data definition(s) to represent that information. "
   ]
  },
  {
   "cell_type": "code",
   "execution_count": 2,
   "metadata": {},
   "outputs": [],
   "source": [
    "# your solution goes here\n",
    "from typing import NamedTuple, Optional, List\n",
    "\n",
    "Newspaper = NamedTuple(\"Newspaper\", [(\"year\", int),\n",
    "                                    (\"adv\", int),\n",
    "                                    (\"circ\", int)])\n",
    "#interp. the year, the advtertising (adv), and circulation (circ), of a newspaper\n",
    "\n",
    "N1 = Newspaper(1956, 3223000, 1344492)\n",
    "N2 = Newspaper(1961,3601000, 1684319)\n",
    "\n",
    "@typecheck\n",
    "def fn_for_newspaper(n: Newspaper) -> ...:\n",
    "    return ...(n.year,\n",
    "              n.adv,\n",
    "              n.circ)\n",
    "\n",
    "List[Newspaper]\n",
    "# interp. a list of newspapers\n",
    "\n",
    "LON1: [N1, N2]\n",
    "LON2: [N1]\n",
    "LON: []\n",
    "\n",
    "@typecheck\n",
    "def fn_for_lon(lon: List[Newspaper]) -> ...:\n",
    "    #description of accumulator\n",
    "    acc = ... #type: ...\n",
    "    \n",
    "    for n in lon:\n",
    "        acc = ...(fn_for_newspaper(n), acc)\n",
    "    return acc\n",
    "\n",
    "\n",
    "Data = Optional[str]\n",
    "# interp. id there is data or no data (none)\n",
    "                                     \n",
    "D1 = \"1956\"\n",
    "D2 = \"\"\n",
    "\n",
    "@typecheck\n",
    "def fn_for_data(d: Data) -> ...:\n",
    "    if d is none:\n",
    "        return ...\n",
    "    else: \n",
    "        return ...(d)\n",
    "\n",
    "List[Data]\n",
    "# interp. a list of data\n",
    "\n",
    "LOD1: [D1, D2]\n",
    "LOD2: [D1]\n",
    "LOD3: []\n",
    "\n",
    "@typecheck\n",
    "def fn_for_lod(lod: List[Data]) -> ...:\n",
    "    #description of accumulator\n",
    "    acc = ... #type: ...\n",
    "    \n",
    "    for d in lod:\n",
    "        acc = ...(d, acc)\n",
    "    return acc"
   ]
  },
  {
   "cell_type": "markdown",
   "metadata": {},
   "source": [
    "## Problem 2a\n",
    "\n",
    "Once you have your data definition(s) from Problem 1, design a function that reads\n",
    "the information from the file and stores it as data in your program. \n",
    "\n",
    "*Remember: we recommend that you only store information for years that have complete information. i.e. if the advertising revenue or circulation revenue is missing, ignore that row.*\n",
    "\n",
    "You should begin by copying the template from the HtDAP page, then complete the \n",
    "design of the `main` and `read` functions. When testing your functions, you may use the testing files called `newspaper_advertising_and_circulation_test1.csv` and `newspaper_advertising_and_circulation_test2.csv`."
   ]
  },
  {
   "cell_type": "code",
   "execution_count": 3,
   "metadata": {},
   "outputs": [
    {
     "name": "stdout",
     "output_type": "stream",
     "text": [
      "\u001b[92m3 of 3 tests passed\u001b[0m\n",
      "\u001b[92m2 of 2 tests passed\u001b[0m\n",
      "\u001b[92m3 of 3 tests passed\u001b[0m\n",
      "\u001b[92m2 of 2 tests passed\u001b[0m\n",
      "\u001b[92m2 of 2 tests passed\u001b[0m\n"
     ]
    }
   ],
   "source": [
    "# your solution goes here\n",
    "\n",
    "@typecheck\n",
    "def main(filename: str) -> int:\n",
    "    \"\"\"\n",
    "    Reads information from given filename and returns the year with the highest advertising revenue\n",
    "    \"\"\"\n",
    "    # # Template from HtDAP, based on function composition\n",
    "    return year_highest_adv_rev(read(filename))\n",
    "\n",
    "@typecheck\n",
    "def read(filename: str) -> List[Newspaper]:\n",
    "    \"\"\"\n",
    "    reads information form the specified file and returns a list of newspapers\n",
    "    \"\"\"\n",
    "    # return LON1 #stub\n",
    "    #template from HTDAP\n",
    "    acc = [] #type: List[Newspaper]\n",
    "    \n",
    "    with open(filename) as csvfile:\n",
    "        reader = csv.reader(csvfile)\n",
    "        next(reader) #skip header line\n",
    "        \n",
    "        for row in reader:\n",
    "            if is_valid(row) == True:     # store information for years that have complete information\n",
    "                c = Newspaper(parse_int(row[0]), parse_int(row[1]), parse_int(row[2]))\n",
    "                \n",
    "                acc.append(c)\n",
    "                \n",
    "        return acc\n",
    "    \n",
    "            \n",
    "            \n",
    "@typecheck\n",
    "def is_valid(lod: List[Data]) -> bool:\n",
    "    \"\"\"\n",
    "    return True if the data in the list is complete, and return False, if the data in the list is incomplete\n",
    "    \"\"\"\n",
    "    #return False #stub\n",
    "    # template from Data \n",
    "   \n",
    "    \n",
    "    for d in lod:\n",
    "        if d == \"\":\n",
    "            return False\n",
    "    return True\n",
    "\n",
    "                \n",
    "\n",
    "        \n",
    "@typecheck\n",
    "def year_highest_adv_rev(lon: List[Newspaper]) -> int:\n",
    "    \"\"\"\n",
    "    return the year with the highest advertising revenue\n",
    "    \"\"\"\n",
    "    # return 0 # template\n",
    "    # template from List[Newspaper] and reference rule\n",
    "    \n",
    "    # acc keeps track of the newspaper from the list of newspapers seen so far that has the highest\n",
    "    # advertising revenue\n",
    "    acc = lon[0]\n",
    "    \n",
    "    for n in lon:\n",
    "        if n.adv > acc.adv:\n",
    "            acc = n\n",
    "    \n",
    "    return year(acc)\n",
    "\n",
    "@typecheck\n",
    "def year(n: Newspaper) -> int:\n",
    "    \"\"\"\n",
    "    return the year of a newspaper\n",
    "    \"\"\"\n",
    "    # return 0 #stub\n",
    "    # template from Newspaper\n",
    "    return n.year\n",
    "\n",
    "\n",
    "start_testing()\n",
    "\n",
    "#test Main\n",
    "expect(main(\"newspaper_advertising_and_circulation_test1.csv\"), 1991)\n",
    "expect(main(\"newspaper_advertising_and_circulation.csv\"), 2005)\n",
    "expect(main(\"newspaper_advertising_and_circulation_test2.csv\"), 1957)\n",
    "summary()\n",
    "\n",
    "# test read\n",
    "expect(read(\"newspaper_advertising_and_circulation_test1.csv\"), [Newspaper(1991, 30349000, 8697679)])\n",
    "expect(read(\"newspaper_advertising_and_circulation_test2.csv\"), [Newspaper(1956,3223000,1344492),\n",
    "                                                                Newspaper(1957,3268000,1373464)])\n",
    "summary()\n",
    "\n",
    "# test is_valid\n",
    "expect(is_valid([D1, D2]), False)\n",
    "expect(is_valid([D1]), True)\n",
    "expect(is_valid([D2]), False)\n",
    "\n",
    "summary()\n",
    "\n",
    "# test year_highest_adv_rev\n",
    "expect(year_highest_adv_rev([Newspaper(1991, 30349000, 8697679)]), 1991)\n",
    "expect(year_highest_adv_rev([Newspaper(1956,3223000,1344492), Newspaper(1957,3268000,1373464)]), 1957)\n",
    "\n",
    "summary()\n",
    "\n",
    "#test year\n",
    "expect(year(N1), 1956)\n",
    "expect(year(N2), 1961)\n",
    "\n",
    "summary()"
   ]
  },
  {
   "cell_type": "markdown",
   "metadata": {
    "collapsed": true
   },
   "source": [
    "## Problem 2b\n",
    "\n",
    "To finish your program, complete the design of the analysis function(s). For this particular problem, we would like your program to find the year that had the highest advertising revenue.\n",
    "\n",
    "Think about your data definitions and the helper rules to determine how many helper functions you will need to write when designing this function. "
   ]
  },
  {
   "cell_type": "code",
   "execution_count": 4,
   "metadata": {},
   "outputs": [],
   "source": [
    "# RETURN to the cell above to complete your design of the analysis functions.\n",
    "# Do not design them here.\n"
   ]
  },
  {
   "cell_type": "code",
   "execution_count": null,
   "metadata": {},
   "outputs": [],
   "source": []
  },
  {
   "cell_type": "code",
   "execution_count": null,
   "metadata": {},
   "outputs": [],
   "source": []
  }
 ],
 "metadata": {
  "kernelspec": {
   "display_name": "Python 3",
   "language": "python",
   "name": "python3"
  },
  "language_info": {
   "codemirror_mode": {
    "name": "ipython",
    "version": 3
   },
   "file_extension": ".py",
   "mimetype": "text/x-python",
   "name": "python",
   "nbconvert_exporter": "python",
   "pygments_lexer": "ipython3",
   "version": "3.6.6"
  }
 },
 "nbformat": 4,
 "nbformat_minor": 1
}
