{
 "cells": [
  {
   "cell_type": "code",
   "execution_count": 2,
   "metadata": {},
   "outputs": [],
   "source": [
    "from cs103 import *"
   ]
  },
  {
   "cell_type": "markdown",
   "metadata": {
    "collapsed": true
   },
   "source": [
    "# HtDF Tutorial\n",
    "\n",
    "## Pre-Tutorial Questions:\n",
    "\n",
    "For each problem, write the stub (including signature and purpose). This work will not be graded but is highly recommended as preparation for your tutorial."
   ]
  },
  {
   "cell_type": "markdown",
   "metadata": {
    "collapsed": true
   },
   "source": [
    "### Problem 1:\n",
    "    \n",
    "Design a function that takes a number and returns the absolute value of that number. The absolute value is the magnitude of the number without its sign. For example, the absolute value of 3 is 3, the absolute value of -9 is 9, and the absolute value of -4.2 is 4.2.\n",
    "\n",
    "When designing your function, be sure to follow all steps of the HtDF recipe."
   ]
  },
  {
   "cell_type": "code",
   "execution_count": 32,
   "metadata": {},
   "outputs": [
    {
     "name": "stdout",
     "output_type": "stream",
     "text": [
      "\u001b[92m5 of 5 tests passed\u001b[0m\n"
     ]
    }
   ],
   "source": [
    "# your solution goes here\n",
    "\n",
    "@typecheck\n",
    "def absolute_value(n: float) -> float:\n",
    "    \"\"\"\n",
    "    returns the absolue value of n\n",
    "    \"\"\"\n",
    "    \n",
    "    #return 0     #stub\n",
    "    # return ...(n) #template\n",
    "    if n < 0:\n",
    "        return -n\n",
    "    else:\n",
    "        return n\n",
    "    \n",
    "#Begin testing\n",
    "start_testing()\n",
    "\n",
    "expect(absolute_value(-3), 3)\n",
    "expect(absolute_value(-100), 100)\n",
    "expect(absolute_value(5), 5)\n",
    "expect(absolute_value(0), 0)\n",
    "expect(absolute_value(10), 10)\n",
    "\n",
    "summary()\n"
   ]
  },
  {
   "cell_type": "code",
   "execution_count": 3,
   "metadata": {},
   "outputs": [
    {
     "name": "stdout",
     "output_type": "stream",
     "text": [
      "\u001b[92m5 of 5 tests passed\u001b[0m\n"
     ]
    }
   ],
   "source": [
    "# your solution goes here\n",
    "\n",
    "@typecheck\n",
    "def absolute_value(n: float) -> float:\n",
    "    \"\"\"\n",
    "    returns the absolue value of n\n",
    "    \"\"\"\n",
    "    \n",
    "    #return 0     #stub\n",
    "    # return ...(n) #template\n",
    "    return abs(n)\n",
    "    \n",
    "#Begin testing\n",
    "start_testing()\n",
    "\n",
    "expect(absolute_value(-3), 3)\n",
    "expect(absolute_value(-100), 100)\n",
    "expect(absolute_value(5), 5)\n",
    "expect(absolute_value(0), 0)\n",
    "expect(absolute_value(10), 10)\n",
    "\n",
    "summary()"
   ]
  },
  {
   "cell_type": "markdown",
   "metadata": {
    "collapsed": true
   },
   "source": [
    "### Problem 2:\n",
    "    \n",
    "A simple way to draw basic images is by using pixel art. Each pixel is a small square of the same size, and by arranging pixels you can make various images.\n",
    "\n",
    "We've included an example of pixel art below. Each of the \"pixels\" in our example is larger than a single pixel on the screen. If you run this code, you can see how images can be built from small squares where each square is a single colour.\n",
    "    \n",
    "Imagine you are working on creating pixel art images and you need to be able to create different designs with pixel art. Design a function that takes a pixel size and a colour and returns a pixel of the given colour and size.  \n",
    "    \n",
    "When designing your function, be sure to follow all steps of the HtDF recipe."
   ]
  },
  {
   "cell_type": "code",
   "execution_count": 33,
   "metadata": {},
   "outputs": [
    {
     "data": {
      "text/plain": [
       "<cs103.image.image.above object at 0x7f39d4148898>"
      ]
     },
     "execution_count": 33,
     "metadata": {},
     "output_type": "execute_result"
    },
    {
     "data": {
      "image/png": "[encoded data removed]",
      "text/plain": [
       "<Figure size 150x150 with 1 Axes>"
      ]
     },
     "metadata": {
      "needs_background": "light"
     },
     "output_type": "display_data"
    }
   ],
   "source": [
    "# Example of pixel art. (Note, this code is not in a function but your solution needs to be in\n",
    "# a function. This is just an example of how you can use the individual pixels (i.e. small \n",
    "# squares) to build a bigger image.)\n",
    "\n",
    "from cs103 import *\n",
    "\n",
    "g_pixel = square(25, \"solid\", \"grey\")\n",
    "b_pixel = square(25, \"solid\", \"black\")\n",
    "\n",
    "even_row = beside(g_pixel, b_pixel, g_pixel, b_pixel, g_pixel, b_pixel, g_pixel, b_pixel)\n",
    "odd_row = beside(b_pixel, g_pixel, b_pixel, g_pixel, b_pixel, g_pixel, b_pixel, g_pixel)\n",
    "checkerboard = above(even_row, odd_row, even_row, odd_row, even_row, odd_row, even_row, odd_row)\n",
    "\n",
    "checkerboard\n"
   ]
  },
  {
   "cell_type": "code",
   "execution_count": 3,
   "metadata": {},
   "outputs": [
    {
     "name": "stdout",
     "output_type": "stream",
     "text": [
      "\u001b[92m3 of 3 tests passed\u001b[0m\n"
     ]
    }
   ],
   "source": [
    "# your solution goes here\n",
    "\n",
    "@typecheck\n",
    "def colour_square(n: float, colour: str) -> Image:\n",
    "    \"\"\"\n",
    "    returns a square of a given size and colour\n",
    "    \"\"\"\n",
    "    \n",
    "    #return square(10, \"solid\",\"red\") #stub\n",
    "    #return ... #template\n",
    "    return square(n, \"solid\", colour)\n",
    "\n",
    "start_testing()\n",
    "expect(colour_square(12, \"black\"), square(12, \"solid\",\"black\"))\n",
    "expect(colour_square(30, \"green\"), square(30, \"solid\",\"green\"))\n",
    "expect(colour_square(25, \"pink\"), square(25, \"solid\",\"pink\"))\n",
    "\n",
    "summary()\n",
    "    "
   ]
  },
  {
   "cell_type": "markdown",
   "metadata": {},
   "source": [
    "### Problem 3:\n",
    "\n",
    "Design a function that creates an image of your choosing using the function that you designed in your solution to Problem 2. You may create any image that you like but your function must take at least one parameter.\n",
    "\n",
    "Suggestion: start small, with an image that contains just a few pixels. Once you get that working, expand your image to something bigger if you like.\n",
    "    \n",
    "When designing your function, be sure to follow all steps of the HtDF recipe."
   ]
  },
  {
   "cell_type": "code",
   "execution_count": 64,
   "metadata": {},
   "outputs": [
    {
     "name": "stdout",
     "output_type": "stream",
     "text": [
      "\u001b[92m3 of 3 tests passed\u001b[0m\n"
     ]
    }
   ],
   "source": [
    "# your solution goes here\n",
    "\n",
    "@typecheck\n",
    "def squares(colour: str, colour2: str, colour3: str) -> Image:\n",
    "    \"\"\"\n",
    "    return a three coloured flag contructed with the three given colours\n",
    "    \"\"\"\n",
    "    \n",
    "    #return beside((beside(rectangle(80, 120, \"solid\", \"green\"), rectangle(80, 120, \"solid\", \"white\"))), rectangle(80, 120,\"solid\", \"red\")) #stub\n",
    "    #return ... #template\n",
    "    return beside((beside(rectangle(80, 120, \"solid\", colour1), rectangle(80, 120, \"solid\", colour2))), rectangle(80, 120,\"solid\", colour3))\n",
    "\n",
    "start_testing()\n",
    "expect(squares(\"green\", \"white\", \"red\"), (beside((beside(rectangle(80, 120, \"solid\", \"green\"), rectangle(80, 120, \"solid\", \"white\"))), rectangle(80, 120,\"solid\", \"red\"))))\n",
    "expect(squares(\"blue\", \"white\", \"red\"), (beside((beside(rectangle(80, 120, \"solid\", \"blue\"), rectangle(80, 120, \"solid\", \"white\"))), rectangle(80, 120,\"solid\", \"red\"))))\n",
    "expect(squares(\"green\", \"white\", \"orange\"), (beside((beside(rectangle(80, 120, \"solid\", \"green\"), rectangle(80, 120, \"solid\", \"white\"))), rectangle(80, 120,\"solid\", \"orange\"))))\n",
    "\n",
    "summary()"
   ]
  },
  {
   "cell_type": "code",
   "execution_count": 12,
   "metadata": {},
   "outputs": [
    {
     "name": "stdout",
     "output_type": "stream",
     "text": [
      "\u001b[92m3 of 3 tests passed\u001b[0m\n"
     ]
    }
   ],
   "source": [
    "# your solution goes here\n",
    "\n",
    "@typecheck\n",
    "def flag(colour1: str, colour2: str, colour3: str) -> Image:\n",
    "    \"\"\"\n",
    "    return a three coloured flag contructed with the funtcion colour_square\n",
    "    \"\"\"\n",
    "    \n",
    "    #return beside((beside(rectangle(80, 120, \"solid\", \"green\"), rectangle(80, 120, \"solid\", \"white\"))), rectangle(80, 120,\"solid\", \"red\")) #stub\n",
    "    #return ... #template\n",
    "    return beside((beside(colour_square(30, colour1), colour_square(30, colour2))), colour_square(30, colour3))\n",
    "\n",
    "start_testing()\n",
    "expect(flag(\"green\", \"white\", \"red\"), (beside((beside(colour_square(30, \"green\"), colour_square(30, \"white\"))), colour_square(30, \"red\"))))\n",
    "expect(flag(\"blue\", \"white\", \"red\"), (beside((beside(colour_square(30, \"blue\"), colour_square(30, \"white\"))), colour_square(30, \"red\"))))\n",
    "expect(flag(\"blue\", \"white\", \"orange\"), (beside((beside(colour_square(30, \"blue\"), colour_square(30, \"white\"))), colour_square(30, \"orange\"))))\n",
    "summary()"
   ]
  },
  {
   "cell_type": "code",
   "execution_count": null,
   "metadata": {},
   "outputs": [],
   "source": [
    "c_s1: colour_square"
   ]
  }
 ],
 "metadata": {
  "kernelspec": {
   "display_name": "Python 3",
   "language": "python",
   "name": "python3"
  },
  "language_info": {
   "codemirror_mode": {
    "name": "ipython",
    "version": 3
   },
   "file_extension": ".py",
   "mimetype": "text/x-python",
   "name": "python",
   "nbconvert_exporter": "python",
   "pygments_lexer": "ipython3",
   "version": "3.6.6"
  }
 },
 "nbformat": 4,
 "nbformat_minor": 1
}
