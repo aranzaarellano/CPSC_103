{
 "cells": [
  {
   "cell_type": "code",
   "execution_count": 1,
   "metadata": {},
   "outputs": [],
   "source": [
    "from cs103 import *"
   ]
  },
  {
   "cell_type": "code",
   "execution_count": 3,
   "metadata": {},
   "outputs": [],
   "source": [
    "from typing import NamedTuple\n",
    "\n",
    "Animal = NamedTuple(\"Animal\",[(\"genus\", str),\n",
    "                             (\"species\", str),\n",
    "                             (\"family\", str),\n",
    "                             (\"order\", str)])\n",
    "\n",
    "# interp. the genus, species, family and order of an animal\n",
    "\n",
    "African_Elephant = Animal(\"Loxodonta Africana\", \"mammal\", \"Elephantidae\", \"Proboscidea\")\n",
    "\n",
    "Komodo_Dragon = Animal(\"Varanus komodoensis\", \"reptile\", \"Varanidae\", \"Squamata\")\n",
    "\n",
    "# template based on Compound\n",
    "def fn_for_Animal(a: Animal) -> ...:\n",
    "          return ...(a.genus,\n",
    "                     a.species, \n",
    "                     a.family, \n",
    "                     a.order)\n"
   ]
  },
  {
   "cell_type": "code",
   "execution_count": null,
   "metadata": {},
   "outputs": [],
   "source": [
    "Artist = NamedTuple(\"Artist\", [(\"family_name\", str),\n",
    "                              (\"given_name\", str),\n",
    "                              (\"birthplace\", str),\n",
    "                              (\"art_form\", str)])\n",
    "# interp. an artist with their family na,e, given name, place of birth, and the art of form they best offer\n",
    "\n",
    "A1 = Artist(\"Monet\", \"Claude\", \"France\", \"Impressionism\")\n",
    "\n",
    "@typecheck\n",
    "#template based on Compound (4 fields)\n",
    "def fn_for_Artist(a: Artist) -> ...:\n",
    "    return ...(a.family_name, \n",
    "              a.given_name, \n",
    "              a.birthplace,\n",
    "              a.art_form)"
   ]
  },
  {
   "cell_type": "markdown",
   "metadata": {},
   "source": [
    "Boardgames\n",
    "\n",
    "Design data definition for a game. Users must be able to report name of game, name of deigner, number of players, and recomended minimum age to play"
   ]
  },
  {
   "cell_type": "code",
   "execution_count": null,
   "metadata": {},
   "outputs": [],
   "source": [
    "Game = NamedTuple(\"Game\", [(\"name_game\", str),\n",
    "                          (\"designer\", str),\n",
    "                          (\"min_players\", int),  #in range[1,...]\n",
    "                          (\"max_players\", int),  #in range[1,...]\n",
    "                          (\"min_age\", int)]) #in range [0, ...]\n",
    "\n",
    "#interp. the \"name_game\" name of the game, \"designer\" designer of the game, \"min_players, max_players\" number of players, \n",
    "# \"min_age\" minimum age to play. \n",
    "\n",
    "G_GH = Game(\"Gloomhaven\", \"Isaac Chilares\", 1, 4, 10) \n",
    "G_BBMM = Game(\"Bunny Bunny Moose Moose\", \"Vlaada\", 2, 6, 3)\n",
    "G_CHESS = Game(\"Chess\", \"Someone in Iran or India?\", 2, 2, 6)\n",
    "\n",
    "@typecheck\n",
    "#template based on Compound (5 fields)\n",
    "def fn_for_Game(g: Game) -> ...:\n",
    "    return ...(g.name, \n",
    "              g.designer, \n",
    "              g.min_players,\n",
    "              g.max_players, \n",
    "              g.min_age)"
   ]
  },
  {
   "cell_type": "markdown",
   "metadata": {},
   "source": [
    "We want to write examples that will help later on, since compunds can get very long. "
   ]
  },
  {
   "cell_type": "markdown",
   "metadata": {},
   "source": [
    "Design a function to detrmine if a child can play the boardgame, assuming that they can play if they're at least 5 years younger than the minimum ge\n"
   ]
  },
  {
   "cell_type": "code",
   "execution_count": null,
   "metadata": {},
   "outputs": [],
   "source": [
    "def ok_to_play(g: Game, age: int) -> bool:\n",
    "    \"\"\"\n",
    "    return True if child with the given age could play, \n",
    "    assuming the child can play games of kids 5 years older than then\n",
    "    \"\"\"\n",
    "    \n",
    "    # return True #stub\n",
    "    #template from Game with given parameter age\n",
    "    \n",
    "    if age + 5 >= g.min_age:\n",
    "        return True\n",
    "    else:\n",
    "        return False\n",
    "\n",
    "start_testing()\n",
    "expect(ok_to_play(G_GH, 5), True)\n",
    "expect(ok_to_play(G_GH, 4), False)\n",
    "expect(ok_to_play(G_CHESS, 42), True)\n",
    "expect(ok_to_play(G_CHESS, 0), False)\n",
    "expect(ok_to_play(Game(\"Chess\", \"Someone in Iran or India?\", 2, 2, 6), 4), (4 + 5 >= 6))\n",
    "\n",
    "\n",
    "summary()\n"
   ]
  },
  {
   "cell_type": "markdown",
   "metadata": {},
   "source": [
    "## Problem 1: \n",
    "\n",
    "Suppose you have been hired by a car dealership to design a program that stores their inventory. You need to design a data definition to represent a car. Each car at this dealership has a make, a model, a price, and is either electric-powered or gas-powered.  Be sure to follow all steps of the HtDD recipe."
   ]
  },
  {
   "cell_type": "code",
   "execution_count": null,
   "metadata": {},
   "outputs": [],
   "source": [
    "from typing import NamedTuple\n",
    "\n",
    "Car = NamedTuple(\"Car\", [(\"make\", str),\n",
    "                        (\"model\", str),\n",
    "                        (\"p\", int),\n",
    "                        (\"eng\", bool)])\n",
    "# interp. a car's make \"make\", model \"model\", price \"p\", \n",
    "# and type of engine \"eng\", which returns True when is it electric \n",
    "# and Flase when it is gas-powerd\n",
    "\n",
    "BMW = Car(\"bmw\", \"i8\", 150000, True)\n",
    "TESLA = Car(\"Tesla\", \"3\", 60000, True)\n",
    "LEVANTE = Car(\"maserati\", \"levante\", 92900, False)\n",
    "\n",
    "@typecheck\n",
    "# template based on Compound\n",
    "def fn_for_Car(c: Car)-> ...:\n",
    "    return (c.make,\n",
    "           c.model,\n",
    "           c.p,\n",
    "           c.eng)\n",
    "    "
   ]
  },
  {
   "cell_type": "markdown",
   "metadata": {},
   "source": [
    "## or"
   ]
  },
  {
   "cell_type": "code",
   "execution_count": null,
   "metadata": {},
   "outputs": [],
   "source": [
    "#from cs103 import *\n",
    "#from typing import NamedTuple \n",
    "#from enum import Enum\n",
    "\n",
    "#problem 1\n",
    "\n",
    "#EnergyType = Enum('EnergyType', ['gp', 'ep'])\n",
    "#interp. the type of energy a car consumes.\n",
    "#'gp' is gas-powered and 'ep' is electric-powered\n",
    "#examples are redundant for enumerations \n",
    "\n",
    "#template based on One Of (2 cases) and Atom Distinct (2 times)\n",
    "#def fn_for_energy_type (et:EnergyType)->...:\n",
    " #   if et== EneryType.gp:\n",
    "  #      return ...\n",
    "   # elif et== EnergyType.ep:\n",
    "    #    return ... \n",
    "\n",
    "#Car= NamedTuple('Car', [('make', str), \n",
    " #                     ('model',str),\n",
    "  #                    ('price', int ),\n",
    "   #                   ('energy_type', EnergyType)])\n",
    "#interp. make (make), model(model), price (price) and energy type (energy_type) of a given car\n",
    "# energy type of a car is either electric-powered or gas-powered \n",
    "\n",
    "#C1= Car('honda', 'civic',25000, EnergyType.gp)\n",
    "#C2= Car('toyota', 'camry',60000, EnergyType.ep)\n",
    "\n",
    "#Template based on Compound (4 fields) and Reference\n",
    "#def fn_for_car(c:Car)->...: \n",
    " #   return...(c.make, \n",
    "  #           c.model,\n",
    "   #          c.price,\n",
    "    #         fn_for_energy_type(c.energy_type)) "
   ]
  },
  {
   "cell_type": "markdown",
   "metadata": {},
   "source": [
    "## Problem 2:\n",
    "\n",
    "Using your data definition from Problem 1, design a function that takes in a car and a budget and returns True if the car is an affordable electric car (i.e. is an electric car that costs less than the given budget). Be sure to follow all steps of the HtDF recipe."
   ]
  },
  {
   "cell_type": "code",
   "execution_count": null,
   "metadata": {},
   "outputs": [],
   "source": [
    "@typecheck\n",
    "\n",
    "def affordable(c: Car, budget: int)-> bool:\n",
    "    \"\"\"\n",
    "    return True if the car is an affordable electric car. False, otherwise\n",
    "    \"\"\"\n",
    "    # return False #stub\n",
    "    # template from Car\n",
    "    assert c.eng == True\n",
    "    \n",
    "    if c.p <= budget:\n",
    "        return True\n",
    "    else:\n",
    "        return False\n",
    "\n",
    "start_testing()\n",
    "expect(affordable(BMW, 160000), True)\n",
    "expect(affordable(BMW, 150000), True)\n",
    "expect(affordable(BMW, 0), False)\n",
    "expect(affordable(TESLA, 60000), True)\n",
    "expect(affordable(TESLA, 59000), False)\n",
    "\n",
    "\n",
    "\n",
    "\n",
    "summary()\n",
    "\n",
    "\n",
    "\n",
    "\n",
    "\n",
    "\n",
    "\n",
    "\n"
   ]
  },
  {
   "cell_type": "code",
   "execution_count": null,
   "metadata": {},
   "outputs": [],
   "source": []
  }
 ],
 "metadata": {
  "kernelspec": {
   "display_name": "Python 3",
   "language": "python",
   "name": "python3"
  },
  "language_info": {
   "codemirror_mode": {
    "name": "ipython",
    "version": 3
   },
   "file_extension": ".py",
   "mimetype": "text/x-python",
   "name": "python",
   "nbconvert_exporter": "python",
   "pygments_lexer": "ipython3",
   "version": "3.6.6"
  }
 },
 "nbformat": 4,
 "nbformat_minor": 2
}
