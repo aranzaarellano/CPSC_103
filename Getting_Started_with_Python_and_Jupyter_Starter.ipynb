{
 "cells": [
  {
   "cell_type": "markdown",
   "metadata": {},
   "source": [
    "# Getting Started with Python and Jupyter\n",
    "\n",
    "In CPSC 103, we will be writing code in the Python programming language using the Jupyter notebook software.\n",
    "\n",
    "This is a quick guide to Jupyter and an introduction to Python. We expect that this may be your first exposure to working with a programming language. Don't worry if there are parts of this tutorial that don't make sense to you.  Programming is a skill that is possibly different from anything you've done before, so give yourself some time to get comfortable with it! And, ask for help and thoughts from the course staff: in person in lecture or tutorial and online on our discussion board!"
   ]
  },
  {
   "cell_type": "code",
   "execution_count": 1,
   "metadata": {},
   "outputs": [],
   "source": [
    "# This is a Python cell (code block) in Jupyter.\n",
    "# \n",
    "# Notice that all the lines in this cell start with a number sign ('#')\n",
    "# and are therefore read by Python as \"comments\": text that is intended\n",
    "# for human readers rather than something that we want Python to process.\n",
    "\n",
    "# To write code, simply type in the box. To run the code, press\n",
    "# the run button in the toolbar above (with the symbol that looks like ▶|),\n",
    "# or use the keyboard shortcut: Shift-Enter (meaning hold down the Shift key\n",
    "# and while it's down, type Enter or Return).\n",
    "#\n",
    "# You can add more cells to your notebook using the Insert menu above.\n",
    "\n",
    "# Now:\n",
    "# 1) click your cursor into this cell and then\n",
    "# 2) click the run button (▶|) above.\n",
    "#\n",
    "# Again, since these are all comments (for human readers, not Python),\n",
    "# the only thing that happens is that the next cell in the notebook\n",
    "# is highlighted."
   ]
  },
  {
   "cell_type": "code",
   "execution_count": 2,
   "metadata": {},
   "outputs": [
    {
     "data": {
      "text/plain": [
       "6"
      ]
     },
     "execution_count": 2,
     "metadata": {},
     "output_type": "execute_result"
    }
   ],
   "source": [
    "# Compare the cell above to this Python cell that has a line at the end\n",
    "# that does not start with '#'.  Notice that when you run this cell\n",
    "# you see a line generated just below it that shows the output produced \n",
    "# by this cell. Try it! Be sure to click in this cell before you click the \n",
    "# run button in the toolbar above.\n",
    "\n",
    "# What do you think Python will do with code like 2 + 4?\n",
    "2 + 4"
   ]
  },
  {
   "cell_type": "markdown",
   "metadata": {},
   "source": [
    "## Expressions\n",
    "\n",
    "Expressions are pieces of code that represent a value. This can be simple data, or complex combinations.  You saw an example on the last line of the previous cell.  The expression 2 + 4 becomes (or *evaluates to*) the value 6."
   ]
  },
  {
   "cell_type": "code",
   "execution_count": 6,
   "metadata": {},
   "outputs": [
    {
     "data": {
      "text/plain": [
       "'Hello Hello Hello '"
      ]
     },
     "execution_count": 6,
     "metadata": {},
     "output_type": "execute_result"
    }
   ],
   "source": [
    "# Python has different kinds of values that it can work with:\n",
    "\n",
    "# - numbers, like 3, -5, 2.984241\n",
    "\n",
    "# - booleans, this is a special kind of data that has only two possible values: True or False\n",
    "\n",
    "# - strings, which means text like 'Hello Python', \"Chris\", '5.6' \n",
    "#   - the text inside the quotation marks is the content of the string\n",
    "#   - notice that you can use single or double quotes to represent strings\n",
    "#   - also notice that last one is tricky: '5.6' is a string whereas 5.6 is a number!\n",
    "\n",
    "# The following are all expressions:\n",
    "\n",
    "1\n",
    "-2.4\n",
    "\n",
    "True\n",
    "False\n",
    "\n",
    "\"Hello Python!\"\n",
    "\n",
    "\n",
    "# For each kind of data, Python provides operations that can be performed on values of that type.  \n",
    "# Here are some examples:\n",
    "\n",
    "1 + 1\n",
    "\"Hello\" + \" \" + \"Python!\"\n",
    "2.3 * 5\n",
    "not True\n",
    "\"Hello \" * 3\n",
    "\n",
    "# When you run a Python cell, Jupyter will display the value of only the last expression \n",
    "# in that cell.  In this case, just 'Hello Hello Hello '\n",
    "\n",
    "# Try commenting out the last expression by putting a number sign ('#') \n",
    "# at the start of its line and running the code cell gain. What do you expect Jupyter \n",
    "# to display? Can you explain why it displayed what it did?\"\n",
    "\n",
    "# Now, copy and paste each expression above (one at a time) to the end of this \n",
    "# cell and run the cell to see what the expression produces\n",
    "\n",
    "#\"Hello \" * 3\n",
    "#Jupyter will not display anything, this is because when there is a # sign, it is a comment for the user to see, not a command to be processed\n",
    "\"Hello \" * 3"
   ]
  },
  {
   "cell_type": "markdown",
   "metadata": {},
   "source": [
    "### _Try it yourself_\n",
    "\n",
    "In the cell below, type a few expressions. Here are some suggestions:\n",
    "\n",
    "- Write your name as a string expression\n",
    "- Write an expression using numbers and mathematical operators like +, -, * and /\n",
    "\n",
    "Run the cell each time you add a new expression, so you can always see the value of the last expression in the cell. \n",
    "\n",
    "Don't be afraid to experiment!  You can't break anything - really :-)"
   ]
  },
  {
   "cell_type": "code",
   "execution_count": 9,
   "metadata": {},
   "outputs": [
    {
     "data": {
      "text/plain": [
       "5856367529932071269049608726415028439757143623443063785468784843536946634255003858796842453459905186846046851774292445753149532138648409140561593823222428559200283816367593571556942770711203894947318922509986128995034233177140247221695941679146171215675158154358685224309073135481486540427499644363484815218991488230440687359021965115067678545212365725678242878485920885436927030372580147256775788882374301866845441065076726499613479868210410548366056401445912760529623658838510267592199677099676046090140514526228797525926977514932394954796457727416398081482661262807288229389463819882569"
      ]
     },
     "execution_count": 9,
     "metadata": {},
     "output_type": "execute_result"
    }
   ],
   "source": [
    "# Write your expressions here:\n",
    "\"Maria \"+\"Arellano\"\n",
    "3**1234\n"
   ]
  },
  {
   "cell_type": "markdown",
   "metadata": {},
   "source": [
    "As you work through the rest of this document, remember that you'll need to run each code cell to make it work.\n",
    "\n",
    "Everyone forgets to run cells sometimes. When that happens, running later cells may produce errors or surprising values. When that happens, the first thing to try is to go back up and re-run the cells. That's where that keyboard shortcut to run (Shift-Enter) comes in very handy to re-run cells quickly!"
   ]
  },
  {
   "cell_type": "markdown",
   "metadata": {},
   "source": [
    "## Variables"
   ]
  },
  {
   "cell_type": "markdown",
   "metadata": {},
   "source": [
    "A variable has a name and stores a value. For example, in the code below, we've defined a variable named `course_name` and we're using that variable to store the value `\"CPSC 103: Introduction to Systematic Program Design\"`"
   ]
  },
  {
   "cell_type": "code",
   "execution_count": 10,
   "metadata": {},
   "outputs": [],
   "source": [
    "course_name = \"CPSC 103: Introduction to Systematic Program Design\""
   ]
  },
  {
   "cell_type": "markdown",
   "metadata": {},
   "source": [
    "Notice that running that cell doesn't display anything. Rather than evaluating to `'CPSC 103: Introduction to Systematic Program Design'`, running this cell stored a value in the variable `course_name`.\n",
    "\n",
    "Once we run this code, we can access the value that is stored in `course_name`.\n",
    "\n",
    "What do you think running the following cell will produce? Make a prediction and then run it to see what actually happens!"
   ]
  },
  {
   "cell_type": "code",
   "execution_count": 11,
   "metadata": {},
   "outputs": [
    {
     "data": {
      "text/plain": [
       "'CPSC 103: Introduction to Systematic Program Design'"
      ]
     },
     "execution_count": 11,
     "metadata": {},
     "output_type": "execute_result"
    }
   ],
   "source": [
    "course_name"
   ]
  },
  {
   "cell_type": "markdown",
   "metadata": {},
   "source": [
    "We can also change the value that is stored in the variable named `course_name`."
   ]
  },
  {
   "cell_type": "code",
   "execution_count": 12,
   "metadata": {},
   "outputs": [],
   "source": [
    "course_name = \"CPSC 103\""
   ]
  },
  {
   "cell_type": "markdown",
   "metadata": {},
   "source": [
    "If we access the value that is stored in `course_name` now, we can see that it has been updated."
   ]
  },
  {
   "cell_type": "code",
   "execution_count": 13,
   "metadata": {},
   "outputs": [
    {
     "data": {
      "text/plain": [
       "'CPSC 103'"
      ]
     },
     "execution_count": 13,
     "metadata": {},
     "output_type": "execute_result"
    }
   ],
   "source": [
    "course_name"
   ]
  },
  {
   "cell_type": "markdown",
   "metadata": {},
   "source": [
    "### _Try it yourself_\n",
    "\n",
    "Try defining some variables, assigning their values, accessing their values, and changing their values. Try writing expressions that include variables."
   ]
  },
  {
   "cell_type": "code",
   "execution_count": 17,
   "metadata": {},
   "outputs": [
    {
     "data": {
      "text/plain": [
       "3"
      ]
     },
     "execution_count": 17,
     "metadata": {},
     "output_type": "execute_result"
    }
   ],
   "source": [
    "# Write your expressions here:\n",
    "school = len(\"UBC\")\n",
    "school\n"
   ]
  },
  {
   "cell_type": "code",
   "execution_count": 18,
   "metadata": {},
   "outputs": [
    {
     "data": {
      "text/plain": [
       "'UBCUBCUBC'"
      ]
     },
     "execution_count": 18,
     "metadata": {},
     "output_type": "execute_result"
    }
   ],
   "source": [
    "School = \"UBC\"*3\n",
    "School"
   ]
  },
  {
   "cell_type": "code",
   "execution_count": 19,
   "metadata": {},
   "outputs": [
    {
     "data": {
      "text/plain": [
       "55"
      ]
     },
     "execution_count": 19,
     "metadata": {},
     "output_type": "execute_result"
    }
   ],
   "source": [
    "Max_Number = max(10,55)\n",
    "Max_Number"
   ]
  },
  {
   "cell_type": "markdown",
   "metadata": {},
   "source": [
    "## Side note on assignment statements\n",
    "\n",
    "Remember that no output was displayed when the code cell that contained this code `course_name = \"CPSC 103: Introduction to Systematic Program Design\"` was run. Some statements, including assignment statements, don't produce a value the way expressions do. When the last line of a cell is a statement that produces no value at all (or the special value `None` that we'll learn more about later) Jupyter displays no output.\n",
    "\n",
    "As another example, try running the following code block that just has `None` in it and notice that no line of output is generated."
   ]
  },
  {
   "cell_type": "code",
   "execution_count": 20,
   "metadata": {},
   "outputs": [],
   "source": [
    "None"
   ]
  },
  {
   "cell_type": "markdown",
   "metadata": {},
   "source": [
    "You should have seen that nothing -- not even `None` -- was displayed!"
   ]
  },
  {
   "cell_type": "markdown",
   "metadata": {},
   "source": [
    "## Functions\n",
    "\n",
    "Functions take in one or more expressions as input, perform some operation(s), and return a value when called. A function is a bit like a machine that takes in raw materials and produces a product. (Like my toaster oven takes in bread and produces toast.)\n",
    "\n",
    "Python has a variety of built-in functions. We will be using these throughout the course. We will also learn how to design our own functions when there is no built-in function that performs the task we need."
   ]
  },
  {
   "cell_type": "code",
   "execution_count": 21,
   "metadata": {},
   "outputs": [
    {
     "data": {
      "text/plain": [
       "2"
      ]
     },
     "execution_count": 21,
     "metadata": {},
     "output_type": "execute_result"
    }
   ],
   "source": [
    "# There are built-in functions for performing mathematical operations, for example.\n",
    "# Expressions are passed as input to a function in parentheses following the name\n",
    "# of the function.\n",
    "\n",
    "# So, for example, the following is a call to the function named round and we pass the\n",
    "# expression 1.71 as input. What do you think this will produce when you run it?\n",
    "# Give it a try!\n",
    "\n",
    "round(1.71)"
   ]
  },
  {
   "cell_type": "code",
   "execution_count": 23,
   "metadata": {},
   "outputs": [
    {
     "data": {
      "text/plain": [
       "78990"
      ]
     },
     "execution_count": 23,
     "metadata": {},
     "output_type": "execute_result"
    }
   ],
   "source": [
    "# Now try making other calls to this function with different input values.  Run the cell\n",
    "# each time and notice the output.  How would you describe the purpose of this function?  \n",
    "# In other words, knowing the value of the expression that is input, what does the function\n",
    "# output?\n",
    "\n",
    "# Here's a start - just enter an expression in the parentheses and run the cell:\n",
    "round(78990.263737382828)"
   ]
  },
  {
   "cell_type": "markdown",
   "metadata": {},
   "source": [
    "By the way, if you tried to run the cell when the last line was just `round()`, you would have seen an error message. If you didn't, change that line to look like `round()` and run it now just to see an error!\n",
    "\n",
    "You'll see a lot of error messages! They can be frustrating, but try to think of them like little puzzles or like a friend trying to help who's not quite sure what to do.\n",
    "\n",
    "Read error messages from bottom to top looking for helpful information, don't worry too much about the parts you don't understand, and ask for help from the course staff and fellow students when you get stuck!\n",
    "\n",
    "With time and practice, more and more pieces of the error message will make sense and be helpful."
   ]
  },
  {
   "cell_type": "code",
   "execution_count": 24,
   "metadata": {},
   "outputs": [
    {
     "data": {
      "text/plain": [
       "41"
      ]
     },
     "execution_count": 24,
     "metadata": {},
     "output_type": "execute_result"
    }
   ],
   "source": [
    "# Now do the same for the following function named len. Note that this function expects\n",
    "# string expressions as input. How would you describe the purpose of this function?  \n",
    "#The purpose of this function is to return the numerical value of the length of the input. For example, when analyzing data.\n",
    "\n",
    "# Again, here's a start - just enter an expression in the parentheses and run the cell:\n",
    "len(\"I am excited to learn how to write Python\") "
   ]
  },
  {
   "cell_type": "code",
   "execution_count": 25,
   "metadata": {},
   "outputs": [
    {
     "data": {
      "text/plain": [
       "9009"
      ]
     },
     "execution_count": 25,
     "metadata": {},
     "output_type": "execute_result"
    }
   ],
   "source": [
    "# Finally, do the same for the max function.  Note that this expression takes one or more\n",
    "# number expressions as input, where those expressions are separated by a comma. \n",
    "# So, for example:\n",
    "\n",
    "max(12, 14.5, 9)\n",
    "\n",
    "# Try making other calls to the max function with a different number of inputs and run the \n",
    "# cell each time. What is the purpose of this function in general?\n",
    "#The purpose of this cell is to indicate the largest value in a range of values, it can be useful when analyzing data. \n",
    "\n",
    "max(1015, 14.5, 9009)\n"
   ]
  },
  {
   "cell_type": "markdown",
   "metadata": {},
   "source": [
    "### _Try it yourself_\n",
    "\n",
    "Try rounding the number `53.24` to 1 decimal place. To find out how to do this, look up the documentation for the `round` function [here](https://docs.python.org/3.3/library/functions.html#round).\n",
    "\n",
    "The documentation can be pretty hard to read! Treat it like error messages: Look for the information that makes sense and helps, don't worry too much about the parts that don't make sense, and ask for help! Like error messages, more and more pieces will make sense with practice."
   ]
  },
  {
   "cell_type": "code",
   "execution_count": 29,
   "metadata": {},
   "outputs": [
    {
     "data": {
      "text/plain": [
       "53.2"
      ]
     },
     "execution_count": 29,
     "metadata": {},
     "output_type": "execute_result"
    }
   ],
   "source": [
    "# Write your expression here:\n",
    "round(53.24, 1)\n"
   ]
  },
  {
   "cell_type": "markdown",
   "metadata": {},
   "source": [
    "## Markdown Cells\n",
    "\n",
    "In addition to *code* cells, you can also have *markdown* cells.  We've used a few on this page, including this cell. Markdown allows you to do things like:\n",
    "- include titles and subtitles to be displayed in a larger, more pronounced font like the one at the top of this cell\n",
    "- use **bold face** or *italic* fonts\n",
    "- include bulleted lists\n",
    "\n",
    "Double-click in this cell to see what was actually entered to produce the formatted text that you see.  To go back to the formatted text, you can run the cell.\n",
    "\n",
    "### Exercise\n",
    "Add a new markdown cell below this one that includes the following:\n",
    "\n",
    "- a title named \"Summary\"\n",
    "- at least one word in bold face text\n",
    "- at least one word in italics\n",
    "- a bulleted list that describes at least three things you learned in this tutorial\n",
    "- a list of any questions you have now that you've reached the end of the tutorial (optional)\n",
    "\n"
   ]
  },
  {
   "cell_type": "markdown",
   "metadata": {},
   "source": [
    "\n"
   ]
  },
  {
   "cell_type": "markdown",
   "metadata": {},
   "source": [
    "## Summary\n",
    "In order to learn *Python* , we must know what **functions** you can do.\n",
    "- We use Max()to get the maximum value in a range of numbers.\n",
    "- We leanred how to use string expressions along with operators\n",
    "- We learned how to input assignment statements\n",
    "\n",
    "## Questions for the TA\n",
    "- How are **booleans** used in programming, and why are they useful?\n",
    "- What are the frameworks nesessary to get a file started (i.e. NumPy)?"
   ]
  },
  {
   "cell_type": "code",
   "execution_count": null,
   "metadata": {},
   "outputs": [],
   "source": []
  }
 ],
 "metadata": {
  "kernelspec": {
   "display_name": "Python 3",
   "language": "python",
   "name": "python3"
  },
  "language_info": {
   "codemirror_mode": {
    "name": "ipython",
    "version": 3
   },
   "file_extension": ".py",
   "mimetype": "text/x-python",
   "name": "python",
   "nbconvert_exporter": "python",
   "pygments_lexer": "ipython3",
   "version": "3.6.6"
  }
 },
 "nbformat": 4,
 "nbformat_minor": 1
}
