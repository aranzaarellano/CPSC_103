{
 "cells": [
  {
   "cell_type": "markdown",
   "metadata": {},
   "source": [
    "#  Tutorial Questions - Intro to Python\n",
    "\n",
    "**Pre-Tutorial Work:**\n",
    "\n",
    "1. Try the first approach that comes to mind for Problem 1, run it, and see if it is correct.\n",
    "2. Run the code in Problem 4 and read the error produced. Make a first guess what might be wrong (but no need to fix it.. or to have your guess be right!)."
   ]
  },
  {
   "cell_type": "markdown",
   "metadata": {},
   "source": [
    "## Problem 1\n",
    "\n",
    "Write a statement that finds the third letter of the value stored in the variable `title` and assigns it as the value of a new variable. Make sure to choose a meaningful name for your new variable."
   ]
  },
  {
   "cell_type": "code",
   "execution_count": 15,
   "metadata": {},
   "outputs": [
    {
     "data": {
      "text/plain": [
       "'c'"
      ]
     },
     "execution_count": 15,
     "metadata": {},
     "output_type": "execute_result"
    }
   ],
   "source": [
    "# Given variable\n",
    "title = \"Doctor\"\n",
    "\n",
    "# write your solution here\n",
    "Third_Letter = title [2]\n",
    "Third_Letter"
   ]
  },
  {
   "cell_type": "markdown",
   "metadata": {},
   "source": [
    "## Problem 2\n",
    "\n",
    "Write a code fragment (i.e. one or more lines of code) that calculates the average of the three grades. Your code fragment should still calculate the correct average even if you change the values assigned to the three variables `grade1`, `grade2`, and `grade3`."
   ]
  },
  {
   "cell_type": "code",
   "execution_count": 20,
   "metadata": {},
   "outputs": [
    {
     "data": {
      "text/plain": [
       "79.33333333333333"
      ]
     },
     "execution_count": 20,
     "metadata": {},
     "output_type": "execute_result"
    }
   ],
   "source": [
    "grade1 = 80\n",
    "grade2 = 67\n",
    "grade3 = 91\n",
    "\n",
    "# write your solution here\n",
    "average = (grade1 + grade2 + grade3)/3\n",
    "average\n"
   ]
  },
  {
   "cell_type": "markdown",
   "metadata": {},
   "source": [
    "## Problem 3\n",
    "\n",
    "Write the step-by-step evaluation of the expression `11 < 4 or 10 <= 9`. \n",
    "\n",
    "Note that you are allowed to elide steps as seen in Example 3 in Section 3.2.2 of the Evaluation Rules document in our \"Language\" module on Canvas."
   ]
  },
  {
   "cell_type": "code",
   "execution_count": null,
   "metadata": {},
   "outputs": [],
   "source": [
    "# Original expression\n",
    "11 < 4 or 10 <= 9\n",
    "\n",
    "# write your solution here\n",
    "11 < 4 or 10 <= 9\n",
    "False or 10 <= 9\n",
    "False or False\n",
    "False"
   ]
  },
  {
   "cell_type": "markdown",
   "metadata": {},
   "source": [
    "## Problem 4\n",
    "\n",
    "The following code fragment is supposed to add 15% tip to a cost (in cents) if `add_tip` is `True`, but it contains one or more errors. If `add_tip` is `False`, no tip should be added. Debug (fix) the code fragment until it is correct and runs without errors."
   ]
  },
  {
   "cell_type": "code",
   "execution_count": null,
   "metadata": {},
   "outputs": [],
   "source": [
    "cost = 2450\n",
    "add_tip = True\n",
    "\n",
    "if add_tip:\n",
    "    cost = cost * 1.15\n",
    "else:\n",
    "    cost = cost"
   ]
  },
  {
   "cell_type": "markdown",
   "metadata": {},
   "source": [
    "## Problem 5\n",
    "\n",
    "Now that you've debugged the code fragment above, write a function that takes a cost, adds a 15% tip, and returns the total including the tip."
   ]
  },
  {
   "cell_type": "code",
   "execution_count": 7,
   "metadata": {},
   "outputs": [
    {
     "data": {
      "text/plain": [
       "6899.999999999999"
      ]
     },
     "execution_count": 7,
     "metadata": {},
     "output_type": "execute_result"
    }
   ],
   "source": [
    "# write your function here\n",
    "\n",
    "def total_cost(cost):\n",
    "    return cost * 1.15\n",
    "\n",
    "total_cost(6000)"
   ]
  },
  {
   "cell_type": "markdown",
   "metadata": {},
   "source": [
    "## Problem 6\n",
    "\n",
    "Now you want a function that takes a cost (perhaps from a bill at a restaurant), adds a tip, and then splits the bill over some number of people.\n",
    "\n",
    "For example, this would be useful if you went for dinner with four friends and wanted to split the dinner cost (including tip) evenly over everyone.\n",
    "\n",
    "We've got the function started for you, but you must complete it. Your function *must* call the function you defined in problem 5. We recommend that you call your function with different inputs and check that you're getting the results that you expect."
   ]
  },
  {
   "cell_type": "code",
   "execution_count": 9,
   "metadata": {},
   "outputs": [],
   "source": [
    "def split_cost(num_people_to_split, billcost):\n",
    "    \n",
    "    cost_per_person = total_cost(billcost)/num_people_to_split # update this line to get the actual cost per person\n",
    "    return cost_per_person"
   ]
  },
  {
   "cell_type": "code",
   "execution_count": 12,
   "metadata": {},
   "outputs": [
    {
     "data": {
      "text/plain": [
       "862.4999999999999"
      ]
     },
     "execution_count": 12,
     "metadata": {},
     "output_type": "execute_result"
    }
   ],
   "source": [
    "split_cost(8, 6000)"
   ]
  },
  {
   "cell_type": "code",
   "execution_count": null,
   "metadata": {},
   "outputs": [],
   "source": []
  }
 ],
 "metadata": {
  "kernelspec": {
   "display_name": "Python 3",
   "language": "python",
   "name": "python3"
  },
  "language_info": {
   "codemirror_mode": {
    "name": "ipython",
    "version": 3
   },
   "file_extension": ".py",
   "mimetype": "text/x-python",
   "name": "python",
   "nbconvert_exporter": "python",
   "pygments_lexer": "ipython3",
   "version": "3.6.6"
  }
 },
 "nbformat": 4,
 "nbformat_minor": 1
}
