{
 "cells": [
  {
   "cell_type": "markdown",
   "metadata": {},
   "source": [
    "# Compound Tutorial Starter\n",
    "\n",
    "### Pre-Tutorial Work:\n",
    "\n",
    "Read the sample information below and start to think about how to best represent one of the rows as data (i.e. how to best represent the information for a *single year*).\n",
    "\n",
    "We have some historial information about beekeepers in Canada\n",
    "\n",
    "|Year|Beekeepers|Colonies|Average yield per colony (pounds)|Production of honey, total (pounds x 1,000)|Value of honey, total (dollars x 1,000)|\n",
    "|---|---|---|---|---|---|\n",
    "|1924|\t22205|\t280010|\t60.1\t|16840\t|2085|\n",
    "|1925|\t22295|\t309400|\t64.6|\t19977\t|2414|\n",
    "|1926|\t22325|\t307490|\t63.5\t|19526\t|2407|\n",
    "|1927|\t22810|\t323750|\t71.8\t|23231\t|2753|\n",
    "\n",
    "\n",
    "Source: Statistics Canada. Table  001-0007 -  Production and value of honey, annual (number unless otherwise noted),  CANSIM (database). (accessed: May 8, 2018) "
   ]
  },
  {
   "cell_type": "markdown",
   "metadata": {},
   "source": [
    "### Problem 1: \n",
    "\n",
    "Design a data definition called BeeData to represent the information from one year shown above. \n",
    "\n",
    "Be sure to follow all steps of the HtDD recipe."
   ]
  },
  {
   "cell_type": "code",
   "execution_count": 1,
   "metadata": {},
   "outputs": [],
   "source": [
    "# your solution goes here\n",
    "\n",
    "from cs103 import *\n",
    "from typing import NamedTuple\n",
    "\n",
    "\n",
    "BeeData = NamedTuple(\"BeeData\", [(\"year\", int),\n",
    "                              (\"keepers\", int),\n",
    "                              (\"colonies\", int),\n",
    "                              (\"avg_yield\", float),\n",
    "                              (\"production\", int),\n",
    "                              (\"value\", int)]) \n",
    "# interp. the year (year), the number of beekeepers (keepers), the number of colonies (colonies), \n",
    "# the average yield per colony in pounds(avg_yield), the total production of honey in pounds (production), \n",
    "# and total value of honey in dollars (value)\n",
    "\n",
    "BD_1924 = BeeData(1924, 22205, 280010, 60.1, 16840, 2085)\n",
    "BD_1925 = BeeData(1925, 22295, 309400, 64.6, 19977, 2414)\n",
    "BD_1926 = BeeData(1926, 22325, 307490, 63.5, 19526, 2407)\n",
    "BD_1927 = BeeData(1927, 22810, 323750, 71.8, 23231, 2753)\n",
    "\n",
    "@typecheck\n",
    "\n",
    "#template based on Compound (6 fields)\n",
    "def fn_for_bee_data(bd: BeeData) -> ...:\n",
    "    return ...(bd.year,\n",
    "              bd.keepers,\n",
    "              bd.colonies, \n",
    "              bd.avg_yield, \n",
    "              bd.production,\n",
    "              bd.value)\n"
   ]
  },
  {
   "cell_type": "markdown",
   "metadata": {},
   "source": [
    "### Problem 2:\n",
    "    \n",
    "Design a function that takes two BeeData and returns True if the first had more beekeepers than the second. Note that when a function takes in two compound inputs, the template should include all selectors from both inputs.\n",
    " \n",
    "Be sure to follow all steps of the HtDF recipe."
   ]
  },
  {
   "cell_type": "code",
   "execution_count": 2,
   "metadata": {},
   "outputs": [
    {
     "name": "stdout",
     "output_type": "stream",
     "text": [
      "\u001b[92m6 of 6 tests passed\u001b[0m\n"
     ]
    }
   ],
   "source": [
    "# your solution goes here\n",
    "\n",
    "@typecheck\n",
    "\n",
    "def beekeepers(bd1: BeeData, bd2:BeeData) -> bool:\n",
    "    \"\"\"\n",
    "    return True if the first year of BeeData had more beekeepers than the second. False otherwise\n",
    "    \"\"\"\n",
    "\n",
    "    # return False #stub\n",
    "    # template from BeeData\n",
    "    \n",
    "    if bd1.keepers > bd2.keepers:\n",
    "        return True\n",
    "    else:\n",
    "        return False\n",
    "\n",
    "start_testing()\n",
    "expect(beekeepers(BD_1924, BD_1925), False)\n",
    "expect(beekeepers(BD_1925, BD_1926), False)\n",
    "expect(beekeepers(BD_1926, BD_1927), False)\n",
    "expect(beekeepers(BD_1926, BD_1924), True)\n",
    "expect(beekeepers(BD_1925, BD_1925), False)\n",
    "expect(beekeepers(BD_1927, BD_1925), True)\n",
    "\n",
    "summary()"
   ]
  },
  {
   "cell_type": "markdown",
   "metadata": {},
   "source": [
    "### Problem 3:\n",
    "\n",
    "You want to find the average cost of honey (per pound) for a given BeeData. Design a function that takes a BeeData and returns the average cost per pound of honey rounded to two decimal points.\n",
    "\n",
    "Be sure to follow all steps of the HtDF recipe.  "
   ]
  },
  {
   "cell_type": "code",
   "execution_count": 3,
   "metadata": {},
   "outputs": [
    {
     "name": "stdout",
     "output_type": "stream",
     "text": [
      "\u001b[92m4 of 4 tests passed\u001b[0m\n"
     ]
    }
   ],
   "source": [
    "# your solution goes here \n",
    "\n",
    "@typecheck\n",
    "def avg_cost_honey(bd: BeeData) -> float:\n",
    "    \"\"\"\n",
    "    return the average cost of honey rounded to two decimal points, per pound, for a given BeeData\n",
    "    \"\"\"\n",
    "    \n",
    "    # return 0.0 #stub\n",
    "    # Template from BeeData\n",
    "    \n",
    "    return round((bd.value / bd.production), 2)\n",
    "\n",
    "start_testing()\n",
    "expect(avg_cost_honey(BD_1924), 0.12)\n",
    "expect(avg_cost_honey(BD_1925), 0.12)\n",
    "expect(avg_cost_honey(BD_1926), 0.12)\n",
    "expect(avg_cost_honey(BD_1927), 0.12)\n",
    "\n",
    "summary()"
   ]
  },
  {
   "cell_type": "markdown",
   "metadata": {},
   "source": [
    "Errors made previously:\n",
    " - always import the nesessary books from the library\n",
    " - @typecheck will always go before the template when desining data, and at the top when designing functions\n",
    " - Don't forget the interpretation\n",
    " - always define \"def\" the fn_for_...\n",
    " - The parameters when desining a function (i.e. bd1, bd2) are to differentiate the data being consumed in the function. \n",
    "when bd1: BeeData that will mean that python in the function will read the data design like,\n",
    "BD_1924 = BeeData(1924,..)\n",
    "BD_1924 = bd1(year, production, etc)-> bd1.year, bd1.production. \n"
   ]
  },
  {
   "cell_type": "code",
   "execution_count": null,
   "metadata": {},
   "outputs": [],
   "source": []
  }
 ],
 "metadata": {
  "kernelspec": {
   "display_name": "Python 3",
   "language": "python",
   "name": "python3"
  },
  "language_info": {
   "codemirror_mode": {
    "name": "ipython",
    "version": 3
   },
   "file_extension": ".py",
   "mimetype": "text/x-python",
   "name": "python",
   "nbconvert_exporter": "python",
   "pygments_lexer": "ipython3",
   "version": "3.6.6"
  }
 },
 "nbformat": 4,
 "nbformat_minor": 2
}
