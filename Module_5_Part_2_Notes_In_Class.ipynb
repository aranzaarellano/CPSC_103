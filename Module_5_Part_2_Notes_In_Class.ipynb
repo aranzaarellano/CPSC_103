{
 "cells": [
  {
   "cell_type": "markdown",
   "metadata": {
    "slideshow": {
     "slide_type": "slide"
    }
   },
   "source": [
    "## Continuing the Board Game Example\n",
    "\n",
    "Two lectures ago, we designed a data definition for a board game. Now, we want to find all the board games in my collection that are playable by a group with _p_ players.\n",
    "\n",
    "How do we build on the previous design?"
   ]
  },
  {
   "cell_type": "code",
   "execution_count": 1,
   "metadata": {},
   "outputs": [],
   "source": [
    "# Old BoardGame data definition\n",
    "\n",
    "from typing import NamedTuple\n",
    "from cs103 import *\n",
    "\n",
    "BoardGame = NamedTuple('BoardGame', \n",
    "                       [('name', str),\n",
    "                        ('designer', str),\n",
    "                        ('min_num_players', int), # in range[1,...]\n",
    "                        ('max_num_players', int), # in range[min_num_players,...]\n",
    "                        ('min_age', int)])        # in range[0,...]\n",
    "# interp. a board game with its name, the designer's name\n",
    "#         the number of players represented as a range from\n",
    "#         minimum to maximum of \n",
    "#         [min_num_players,max_num_players], and the minimum\n",
    "#         recommended minimum age in years min_age\n",
    "BG_GLOOMHAVEN = BoardGame('Gloomhaven',\n",
    "                          'Childres',\n",
    "                          1, 4, 12)\n",
    "BG_BBMM = BoardGame('Bunny Bunny Moose Moose',\n",
    "                    'Chvatil',\n",
    "                    3, 10, 5)\n",
    "\n",
    "@typecheck\n",
    "def fn_for_board_game(bg: BoardGame) -> ...:\n",
    "    # template based on Compound (5 fields)\n",
    "    return ...(bg.name,           # str\n",
    "               bg.designer,        # str\n",
    "               bg.min_num_players, # int in range[1,...]\n",
    "               bg.max_num_players, # int in range [min_np, ...]\n",
    "               bg.min_age)         # int in range[0, ...]\n"
   ]
  },
  {
   "cell_type": "code",
   "execution_count": 2,
   "metadata": {},
   "outputs": [],
   "source": [
    "# List Data Definition\n",
    "from typing import List\n",
    "\n",
    "# List[BoardGame]\n",
    "# interp. a list of board games\n",
    "LBG_EMPTY = []\n",
    "LBG_TWO = [BG_GLOOMHAVEN, BG_BBMM]\n",
    "\n",
    "@typecheck\n",
    "def fn_for_lobg(lobg: List[BoardGame]) -> ...: \n",
    "    # template based on arbitrary-sized, and reference rule\n",
    "    # description of accumulator\n",
    "    acc = ...   # type: ...\n",
    "    for bg in lobg:\n",
    "        acc = ...(fn_for_board_game(bg), acc)\n",
    "    \n",
    "    return ...(acc)\n"
   ]
  },
  {
   "cell_type": "code",
   "execution_count": 3,
   "metadata": {},
   "outputs": [
    {
     "name": "stdout",
     "output_type": "stream",
     "text": [
      "\u001b[92m7 of 7 tests passed\u001b[0m\n",
      "\u001b[92m5 of 5 tests passed\u001b[0m\n"
     ]
    }
   ],
   "source": [
    "# Now, how do we proceed to design a function that finds all the games in my collection appropriate\n",
    "# for p players?\n",
    "\n",
    "@typecheck\n",
    "def is_playable_by_p(bg: BoardGame, p: int) -> bool:\n",
    "    \"\"\"\n",
    "    return True if bg is appropriate for p players to play (and False otherwise)\n",
    "    \"\"\"\n",
    "    #return True #stub\n",
    "    # Template from BoargGame with additional parameter\n",
    "    return p >= bg.min_num_players and p <= bg.max_num_players\n",
    "    \n",
    "\n",
    "start_testing()\n",
    "expect(is_playable_by_p(BG_BBMM, 1), False)\n",
    "expect(is_playable_by_p(BG_BBMM, 3), True)\n",
    "expect(is_playable_by_p(BG_BBMM, 7), True)\n",
    "expect(is_playable_by_p(BG_BBMM, 10), True)\n",
    "expect(is_playable_by_p(BG_BBMM, 11), False)\n",
    "expect(is_playable_by_p(BG_GLOOMHAVEN, 6), False)\n",
    "expect(is_playable_by_p(BG_GLOOMHAVEN, 3), True)\n",
    "summary()\n",
    "\n",
    "\n",
    "@typecheck\n",
    "def find_all_games_for_p(collection: List[BoardGame], p: int) -> List[BoardGame]:\n",
    "    \"\"\"\n",
    "    return all the games in the collection that are appropriate for p players\n",
    "    \"\"\"\n",
    "    #return collection  #stub\n",
    "    # Template from List[BoardGame] with additional parameter (p)\n",
    "    \n",
    "    # good_games is a list of all the games appropriate for p players seen so far\n",
    "    good_games = []   # type: List[BoardGame]\n",
    "    for bg in collection:\n",
    "        if is_playable_by_p(bg, p):\n",
    "            # Notes on append ADDED after class.\n",
    "            \n",
    "            # Here is one way we can implement the body of this loop:\n",
    "            #good_games = good_games + [bg]\n",
    "            # This makes a list of one element [bg] and adds it to the end of good_games\n",
    "            \n",
    "            # We can ALSO accomplish the same with this in Python:\n",
    "            good_games.append(bg)\n",
    "            # The way to read the dot (.) as in good_games.append is: \"look inside\n",
    "            # good_games and find its piece named append\". It turns out every list\n",
    "            # has a function inside named \"append\" that can add an element to the \n",
    "            # end of the list. So, all together this says: \"look inside good_games\n",
    "            # and find the piece named append--which is a function--and then call\n",
    "            # append on the argument bg.\" Append then adds bg to the end of the\n",
    "            # list good_games.\n",
    "    \n",
    "    return good_games\n",
    "    \n",
    "start_testing()\n",
    "expect(find_all_games_for_p([], 3), [])\n",
    "expect(find_all_games_for_p(LBG_TWO, 3), LBG_TWO)\n",
    "expect(find_all_games_for_p(LBG_TWO, 1), [BG_GLOOMHAVEN])\n",
    "expect(find_all_games_for_p(LBG_TWO, 9), [BG_BBMM])\n",
    "expect(find_all_games_for_p(LBG_TWO, 99), [])\n",
    "summary()"
   ]
  },
  {
   "cell_type": "markdown",
   "metadata": {},
   "source": [
    "### Games' Names\n",
    "\n",
    "Now, design a function that returns the names of all the games in a collection."
   ]
  },
  {
   "cell_type": "code",
   "execution_count": 4,
   "metadata": {},
   "outputs": [
    {
     "name": "stdout",
     "output_type": "stream",
     "text": [
      "\u001b[92m2 of 2 tests passed\u001b[0m\n"
     ]
    }
   ],
   "source": [
    "# COMPLETED after class:\n",
    "\n",
    "# Here we have another function on lists. However, the only thing we\n",
    "# need out of a board game is its name. If all we need to do is\n",
    "# access a field of a board game, we just use the \"dot\" to get it\n",
    "# instead of writing a helper function.\n",
    "\n",
    "@typecheck\n",
    "def get_game_names(game_collection: List[BoardGame]) -> List[str]:\n",
    "    \"\"\"\n",
    "    returns a list of the names of the games in game_collection\n",
    "    \"\"\"\n",
    "    #return []  #stub\n",
    "    # Template from List[BoardGame]\n",
    "    # the names of the board games we have seen so far in game_collection\n",
    "    # (This is our \"usual\" kind of accumulator that builds up the result\n",
    "    # of the function based on the portion of the list we've seen so far.)\n",
    "    names_so_far = []   # type: List[str]\n",
    "    for game in game_collection:\n",
    "        names_so_far.append(game.name)  # There's that \"append\" thing again!\n",
    "    \n",
    "    return names_so_far\n",
    "\n",
    "start_testing()\n",
    "\n",
    "expect(get_game_names([]), [])\n",
    "expect(get_game_names(LBG_TWO), ['Gloomhaven', 'Bunny Bunny Moose Moose'])\n",
    "summary()"
   ]
  },
  {
   "cell_type": "markdown",
   "metadata": {},
   "source": [
    "## Reference Rule Outside of Lists\n",
    "\n",
    "Lists can refer to other types defined in a data definition, but so can several other types of data. Specifically, Optionals and Compounds can refer to other data definitions. In those cases, you follow the same reference rule as with lists.\n",
    "\n",
    "Here's an example problem to practice that:\n",
    "\n",
    "Determine if a person with a particular height in feet and inches (with no fractions) should be allowed on a ride that may have a minimum height (in feet and inches with no fractions)."
   ]
  },
  {
   "cell_type": "code",
   "execution_count": 5,
   "metadata": {},
   "outputs": [],
   "source": [
    "# FINISHED AFTER CLASS\n",
    "\n",
    "# Data definitions\n",
    "\n",
    "Height = NamedTuple('Height', [('feet', int),     # in range [0, ...)\n",
    "                               ('inches', int)])  # in range [0, 12)\n",
    "# interp. a person's height in feet and inches. There are 12 inches in a foot;\n",
    "#         so, inches can only be 0 through 11.\n",
    "H_5_10 = Height(5, 10)\n",
    "H_5_3 = Height(5, 3)\n",
    "H_4_8 = Height(4, 8)\n",
    "\n",
    "@typecheck\n",
    "# template based on compound (2 fields)\n",
    "def fn_for_height(h: Height) -> ...:\n",
    "    return ...(h.feet,\n",
    "               h.inches)"
   ]
  },
  {
   "cell_type": "code",
   "execution_count": 6,
   "metadata": {},
   "outputs": [],
   "source": [
    "# NOTE: we need a data definition for a minimum height restriction.\n",
    "# It's either a height or a special value indicating that there's no restriction.\n",
    "# (Aside: we could perhaps just use a height of zero for this; we chose to go\n",
    "# another direction.)\n",
    "\n",
    "MinHeight = Optional[Height]\n",
    "# interp. the height restriction on a ride (minimum height to ride)\n",
    "# or None if the ride has no height restriction\n",
    "MH_NONE = None\n",
    "MH_5_10 = H_5_10\n",
    "\n",
    "@typecheck\n",
    "# template based on optional WITH REFERENCE RULE\n",
    "# NOTE: we need to use the reference rule because Height is itself defined by a data definition!\n",
    "def fn_for_min_height(mh: MinHeight) -> ...:\n",
    "    if mh is None:\n",
    "        return ...\n",
    "    else:\n",
    "        return ...(fn_for_height(mh))  # NOTE: at this point, we know that mh is a Height\n",
    "                                       # So, we call the Height template function to hint that\n",
    "                                       # a helper function would be valuable at this point."
   ]
  },
  {
   "cell_type": "code",
   "execution_count": 7,
   "metadata": {},
   "outputs": [
    {
     "name": "stdout",
     "output_type": "stream",
     "text": [
      "\u001b[92m6 of 6 tests passed\u001b[0m\n",
      "\u001b[92m5 of 5 tests passed\u001b[0m\n"
     ]
    }
   ],
   "source": [
    "# Function\n",
    "\n",
    "# NOTE: we realized we needed height_is_at_least during the design of can_ride.\n",
    "# I've collected the tests below (in the same order as the functions) and put the \"smaller\"\n",
    "# function height_is_at_Least below can_ride.\n",
    "\n",
    "@typecheck\n",
    "def can_ride(rider: Height, minimum: MinHeight) -> bool:\n",
    "    \"\"\"\n",
    "    determine whether rider is tall enough to go on a ride with the given minimum\n",
    "    restriction on height (return True if yes and False if no)\n",
    "    \"\"\"\n",
    "    #return True  #stub\n",
    "    # Template from MinHeight with additional parameter (rider)\n",
    "    # NOTE: I chose to template based on the more complex parameter, which is common.\n",
    "    if minimum is None:\n",
    "        return True\n",
    "    else:\n",
    "        return height_is_at_least(rider, minimum) # At this point we know minimum is just a Height\n",
    "\n",
    "@typecheck\n",
    "def height_is_at_least(h1: Height, h2: Height) -> bool:\n",
    "    \"\"\"\n",
    "    return True if h1 is at least as tall as h2 (and False otherwise)\n",
    "    \"\"\"\n",
    "    #return True  #stub\n",
    "    # Template from Height with two Height parameters (so, we collect up all the h1.FIELD_NAME\n",
    "    # and h2.FIELD_NAME pieces)\n",
    "    return (h1.feet > h2.feet) or (h1.feet == h2.feet and h1.inches >= h2.inches)\n",
    "    \n",
    "\n",
    "start_testing()\n",
    "expect(can_ride(Height(5, 10), None), True) # no minimum height\n",
    "expect(can_ride(Height(5, 10), Height(5, 10)), True) # same height\n",
    "expect(can_ride(Height(5, 10), Height(5, 11)), False) # too short, same foot\n",
    "expect(can_ride(Height(5, 10), Height(6, 3)), False) # too short, feet larger, but inches smaller!\n",
    "expect(can_ride(Height(5, 10), Height(5, 5)), True) # tall enough\n",
    "expect(can_ride(Height(5, 10), Height(4, 11)), True) # tall enough; feet smaller, but inches larger!\n",
    "summary()\n",
    "\n",
    "# NOTE: having worked hard on the test/examples for can_ride, it made sense to copy-paste\n",
    "# them to use for height_is_at_least.. except the None test, which makes no sense for this function!\n",
    "\n",
    "start_testing()\n",
    "expect(height_is_at_least(Height(5, 10), Height(5, 10)), True) # same height\n",
    "expect(height_is_at_least(Height(5, 10), Height(5, 11)), False) # too short, same foot\n",
    "expect(height_is_at_least(Height(5, 10), Height(6, 3)), False) # too short, feet larger, but inches smaller!\n",
    "expect(height_is_at_least(Height(5, 10), Height(5, 5)), True) # tall enough\n",
    "expect(height_is_at_least(Height(5, 10), Height(4, 11)), True) # tall enough; feet smaller, but inches larger!\n",
    "summary()"
   ]
  }
 ],
 "metadata": {
  "kernelspec": {
   "display_name": "Python 3",
   "language": "python",
   "name": "python3"
  },
  "language_info": {
   "codemirror_mode": {
    "name": "ipython",
    "version": 3
   },
   "file_extension": ".py",
   "mimetype": "text/x-python",
   "name": "python",
   "nbconvert_exporter": "python",
   "pygments_lexer": "ipython3",
   "version": "3.6.6"
  }
 },
 "nbformat": 4,
 "nbformat_minor": 2
}
