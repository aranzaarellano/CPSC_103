{
 "cells": [
  {
   "cell_type": "code",
   "execution_count": 5,
   "metadata": {},
   "outputs": [],
   "source": [
    "from cs103 import *"
   ]
  },
  {
   "cell_type": "markdown",
   "metadata": {},
   "source": [
    "## Pre-Tutorial Work:\n",
    "\n",
    "Complete Part One of the in-class worksheet.\n",
    "\n"
   ]
  },
  {
   "cell_type": "markdown",
   "metadata": {},
   "source": [
    "## Problem 1\n",
    "\n",
    "For each of the examples in the function design `any_positive` below, fill in the trace table and show the value stored in the variable res and the portion of the list that has been “seen” so far each time the body of the loop is executed. \n",
    "\n",
    "To edit this table, double click in the cell.\n",
    "\n",
    "| Example  |  first time through the loop | second time through the loop  | third time through the loop  |   \n",
    "|---|---|---|---|\n",
    "| a |   |   |   |\n",
    "| b | True  |  True | True  |\n",
    "| c | True  |  True | True  |\n",
    "| d | False  | False   | True   |\n",
    "| e |  False | False  | False  |"
   ]
  },
  {
   "cell_type": "code",
   "execution_count": 6,
   "metadata": {},
   "outputs": [
    {
     "name": "stdout",
     "output_type": "stream",
     "text": [
      "\u001b[92m5 of 5 tests passed\u001b[0m\n"
     ]
    }
   ],
   "source": [
    "from cs103 import *\n",
    "from typing import List\n",
    "\n",
    "@typecheck\n",
    "def any_positive(loi: List[int]) -> bool:\n",
    "    \"\"\"\n",
    "    return True if any element in loi is positive\n",
    "    \"\"\"\n",
    "    # return False #stub\n",
    "    # template from List[int]\n",
    "    \n",
    "    res = False\n",
    "    for i in loi:\n",
    "        if i > 0:\n",
    "            res = True\n",
    "    return res\n",
    "    \n",
    "start_testing()\n",
    "\n",
    "expect(any_positive([]), False)           # example a\n",
    "expect(any_positive([1,2,3]), True)       # example b\n",
    "expect(any_positive([1,-2,-7]), True)     # example c\n",
    "expect(any_positive([-1,-92,10]), True)   # example d\n",
    "expect(any_positive([-11,-9,-10]), False) # example e\n",
    "\n",
    "summary()"
   ]
  },
  {
   "cell_type": "markdown",
   "metadata": {},
   "source": [
    "## Problem 2\n",
    "\n",
    "Below is an alternative implementation for `any_positive`. Note that the signature and purpose are the same, but the function name has been changed to `any_positive2` and the implementation is different.\n",
    "\n",
    "For each of the examples in the function design `any_positive2` below, fill in the trace table and show the portion of the list that has been “seen” so far each time the body of the loop is executed. \n",
    "\n",
    "| Example   |  first time through the loop | second time through the loop  | third time through the loop  |   \n",
    "|---|-    |-----|---|\n",
    "| a |                            \n",
    "| b | 1    |                       |\n",
    "| c | 1    |                      |\n",
    "| d | -1   | -1, -92 | -1, -92, 10  |\n",
    "| e | -11  | -9, -11 | -9, -11, -10 | \n"
   ]
  },
  {
   "cell_type": "code",
   "execution_count": 7,
   "metadata": {},
   "outputs": [
    {
     "name": "stdout",
     "output_type": "stream",
     "text": [
      "\u001b[92m5 of 5 tests passed\u001b[0m\n"
     ]
    }
   ],
   "source": [
    "from cs103 import *\n",
    "from typing import List\n",
    "\n",
    "@typecheck\n",
    "def any_positive2(loi: List[int]) -> bool:\n",
    "    \"\"\"\n",
    "    return True if any element in loi is positive\n",
    "    \"\"\"\n",
    "    # return False #stub\n",
    "    # template from List[int]\n",
    "    \n",
    "    for i in loi:\n",
    "        if i > 0:\n",
    "            return True\n",
    "    return False\n",
    "    \n",
    "start_testing()\n",
    "\n",
    "expect(any_positive2([]), False)           # example a\n",
    "expect(any_positive2([1,2,3]), True)       # example b\n",
    "expect(any_positive2([1,-2,-7]), True)     # example c\n",
    "expect(any_positive2([-1,-92,10]), True)   # example d\n",
    "expect(any_positive2([-11,-9,-10]), False) # example e\n",
    "\n",
    "summary()"
   ]
  },
  {
   "cell_type": "markdown",
   "metadata": {},
   "source": [
    "## Problem 3\n",
    "\n",
    "Recall the beekeeper problem from the compound module's tutorial questions. We are going to use the BeeData type (given below) that we created last week and now create a data type that can store an arbitrary-number of BeeDatas. Design a data definition to represent an arbitrary-number of Bee Datas. Remember to follow the HtDD recipe.\n",
    "\n",
    "\n",
    "\n",
    "Reminder: the BeeData type is based on the historical information about beekeepers in Canada\n",
    "\n",
    "|Year|Beekeepers|Colonies|Average yield per colony (pounds)|Production of honey, total (pounds x 1,000)|Value of honey, total (dollars x 1,000)|\n",
    "|---|---|---|---|---|---|\n",
    "|1924|\t22205|\t280010|\t60.1\t|16840\t|2085|\n",
    "|1925|\t22295|\t309400|\t64.6|\t19977\t|2414|\n",
    "|1926|\t22325|\t307490|\t63.5\t|19526\t|2407|\n",
    "|1927|\t22810|\t323750|\t71.8\t|23231\t|2753|\n",
    "\n",
    "\n",
    "Source: Statistics Canada. Table  001-0007 -  Production and value of honey, annual (number unless otherwise noted),  CANSIM (database). (accessed: May 8, 2018) "
   ]
  },
  {
   "cell_type": "code",
   "execution_count": 10,
   "metadata": {},
   "outputs": [],
   "source": [
    "from typing import NamedTuple, List\n",
    "\n",
    "BeeData = NamedTuple('BeeData', [('year', int),       # in range[1924, ...)\n",
    "                                 ('keepers', int),    # in range[0, ...)\n",
    "                                 ('colonies', int),   # in range[0, ...)\n",
    "                                 ('yld', float),      # in range[0, ...)\n",
    "                                 ('prod', int),       # in range[0, ...)\n",
    "                                 ('value', int)])     # in range[0, ...)\n",
    "# interp. beekeeper data from one year in Canada. includes the number of beekeepers ('keepers'), the number of\n",
    "#         colonies, the average yield per colony in pounds ('yld'), the total production of honey ('prod'),\n",
    "#         in thousands of pounds, and the total value of the honey in thousands of dollars\n",
    "\n",
    "BD1924 = BeeData(1924, 22205, 280010, 60.1, 16840, 2085)\n",
    "BD1925 = BeeData(1925, 22295, 309400, 64.6, 19977, 2414)\n",
    "BD1926 = BeeData(1926, 22325, 307490, 63.5, 19526, 2407)\n",
    "BD1927 = BeeData(1927, 22810, 323750, 71.8, 23231, 2753)\n",
    "\n",
    "# template based on compound\n",
    "@typecheck\n",
    "def fn_for_bee_data(bd: BeeData) -> ...:\n",
    "    return ...(bd.year, \n",
    "               bd.keepers,\n",
    "               bd.colonies,\n",
    "               bd.yld,\n",
    "               bd.prod, \n",
    "               bd.value)\n",
    "\n",
    "\n",
    "# your solution goes here\n",
    "from typing import List\n",
    "\n",
    "# List[BeeData]\n",
    "# interp. a list of BeeData\n",
    "\n",
    "L1 = [BD1924, BD1925, BD1926, BD1927]\n",
    "L2 = []\n",
    "\n",
    "# template based on arbitrary-sized\n",
    "def fn_for_lobd(lobd: List[BeeData]) -> ...:\n",
    "    #description of the accumulator\n",
    "    acc = ... #type: ...\n",
    "    for l in lobd:\n",
    "        acc = ...(l, acc)\n",
    "        \n",
    "    return acc\n"
   ]
  },
  {
   "cell_type": "markdown",
   "metadata": {},
   "source": [
    "## Problem 4\n",
    "\n",
    "Design a function that takes a list of bee data and finds the year with the most colonies.\n",
    "\n",
    "Hint: You may assume that the input list is not empty."
   ]
  },
  {
   "cell_type": "code",
   "execution_count": 27,
   "metadata": {},
   "outputs": [
    {
     "name": "stdout",
     "output_type": "stream",
     "text": [
      "\u001b[92m4 of 4 tests passed\u001b[0m\n"
     ]
    }
   ],
   "source": [
    "# your solution goes here\n",
    "\n",
    "from typing import List\n",
    "\n",
    "@typecheck\n",
    "\n",
    "def year_most_colonies(lobd: List[BeeData]) -> int:\n",
    "    \"\"\"\n",
    "    return the year with the most colonies in the BeeData\n",
    "    \"\"\"\n",
    "    # return 0 #stub\n",
    "    # template based on List[BeeData]\n",
    "    \n",
    "     #acc will keep track of the BeeData with the most colonies\n",
    "    \n",
    "    acc = lobd[0]    #type: BeeData\n",
    "    for bd in lobd:\n",
    "        bd.colonies > acc.colonies\n",
    "        acc = bd\n",
    "        \n",
    "    return acc.year\n",
    "\n",
    "\n",
    "start_testing()\n",
    "expect(year_most_colonies([BD1924, BD1925, BD1926, BD1927]), 1927)\n",
    "expect(year_most_colonies([BD1924, BD1925]), 1925)\n",
    "expect(year_most_colonies([BD1924, BD1925, BD1927]), 1927)\n",
    "expect(year_most_colonies([BD1924]), 1924)\n",
    "\n",
    "\n",
    "summary()"
   ]
  },
  {
   "cell_type": "code",
   "execution_count": null,
   "metadata": {},
   "outputs": [],
   "source": []
  }
 ],
 "metadata": {
  "kernelspec": {
   "display_name": "Python 3",
   "language": "python",
   "name": "python3"
  },
  "language_info": {
   "codemirror_mode": {
    "name": "ipython",
    "version": 3
   },
   "file_extension": ".py",
   "mimetype": "text/x-python",
   "name": "python",
   "nbconvert_exporter": "python",
   "pygments_lexer": "ipython3",
   "version": "3.6.6"
  }
 },
 "nbformat": 4,
 "nbformat_minor": 2
}
