{
 "cells": [
  {
   "cell_type": "code",
   "execution_count": 2,
   "metadata": {},
   "outputs": [],
   "source": [
    "# Design a function following the desiging a function recepie. \n",
    "# "
   ]
  },
  {
   "cell_type": "code",
   "execution_count": 17,
   "metadata": {},
   "outputs": [
    {
     "name": "stdout",
     "output_type": "stream",
     "text": [
      "\u001b[92m5 of 5 tests passed\u001b[0m\n"
     ]
    }
   ],
   "source": [
    "from cs103 import *\n",
    "\n",
    "# Answer\n",
    "\n",
    "@typecheck\n",
    "def begins_with_d(s: str) -> bool:\n",
    "    \"\"\"\n",
    "    returns True if a string starts with the letter  \"d\" (uppercase or lowercase), and False otherwise\n",
    "    \"\"\"\n",
    "    \n",
    "    #return True #stub\n",
    "    #return ...(s) #template\n",
    "    if s == \"\":\n",
    "        return False\n",
    "    elif (s[0] == \"d\") or (s[0] == \"D\"):\n",
    "        return True\n",
    "    else:\n",
    "        return False\n",
    "\n",
    "start_testing()\n",
    "\n",
    "expect(begins_with_d(\"dog\"), True)\n",
    "expect(begins_with_d(\"Dog\"), True)\n",
    "expect(begins_with_d(\"cat\"), False)\n",
    "expect(begins_with_d(\"4\"), False)\n",
    "expect(begins_with_d(\"\"), False)\n",
    "\n",
    "summary()"
   ]
  },
  {
   "cell_type": "code",
   "execution_count": null,
   "metadata": {},
   "outputs": [],
   "source": []
  },
  {
   "cell_type": "code",
   "execution_count": 4,
   "metadata": {},
   "outputs": [],
   "source": [
    "from cs103 import *\n",
    "\n",
    "@typecheck\n",
    "def larger_image(i1: Image, i2: Image) -> bool:\n",
    "    \"\"\"\n",
    "    return True if i1 has larger area than i2\n",
    "    \"\"\"\n",
    "# return False #stub\n",
    "# return ...(i1, i2) #template\n",
    "\n",
    "    if ((image_width(i1)* image_height(i1)) > (image_width(i2)* image_height(i2))):\n",
    "        return True\n",
    "    else:\n",
    "        return False\n",
    "    "
   ]
  },
  {
   "cell_type": "code",
   "execution_count": 23,
   "metadata": {},
   "outputs": [
    {
     "name": "stdout",
     "output_type": "stream",
     "text": [
      "\u001b[92m5 of 5 tests passed\u001b[0m\n"
     ]
    }
   ],
   "source": [
    "# Design a functuion that determines if a string starts with letter d\n",
    "\n",
    "@typecheck\n",
    "def letter_d(word: str) -> bool:\n",
    "    \"\"\"\n",
    "    return True if string starts with letter d (uppercase or lowercase), otherwise, return False\n",
    "    \"\"\"\n",
    "    \n",
    "    # return False #stub\n",
    "    # return ...(word) #template\n",
    "\n",
    "    if (word[0] == \"d\") or (word[0] == \"D\"):\n",
    "        return True\n",
    "\n",
    "    elif word == \"\":\n",
    "        return False\n",
    "\n",
    "    else:\n",
    "        return False\n",
    "\n",
    "start_testing()\n",
    "expect(letter_d(\"dog\"), True)\n",
    "expect(letter_d(\"milk\"), False)\n",
    "expect(letter_d(\"Diary\"), True)\n",
    "expect(letter_d(\"Alligator\"),False)\n",
    "expect(letter_d(\" \"),False)\n",
    "\n",
    "summary()"
   ]
  },
  {
   "cell_type": "code",
   "execution_count": null,
   "metadata": {},
   "outputs": [],
   "source": []
  },
  {
   "cell_type": "code",
   "execution_count": null,
   "metadata": {},
   "outputs": [],
   "source": []
  }
 ],
 "metadata": {
  "kernelspec": {
   "display_name": "Python 3",
   "language": "python",
   "name": "python3"
  },
  "language_info": {
   "codemirror_mode": {
    "name": "ipython",
    "version": 3
   },
   "file_extension": ".py",
   "mimetype": "text/x-python",
   "name": "python",
   "nbconvert_exporter": "python",
   "pygments_lexer": "ipython3",
   "version": "3.6.6"
  }
 },
 "nbformat": 4,
 "nbformat_minor": 2
}
