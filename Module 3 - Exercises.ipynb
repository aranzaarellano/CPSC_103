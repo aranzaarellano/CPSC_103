{
 "cells": [
  {
   "cell_type": "code",
   "execution_count": 2,
   "metadata": {},
   "outputs": [],
   "source": [
    "from cs103 import *\n",
    "from enum import Enum"
   ]
  },
  {
   "cell_type": "markdown",
   "metadata": {},
   "source": [
    "## standing problem: \n",
    "design a function that takes a standing and determine if student is still working in the course wher they earned that standing\n",
    "\n",
    "**Note: for this we will need a data definition for standing** "
   ]
  },
  {
   "cell_type": "code",
   "execution_count": null,
   "metadata": {},
   "outputs": [],
   "source": [
    "\n",
    "Standing = Enum(\"Standing\", [\"SD\", \"AUD\", \"W\"]) # Data type definition\n",
    "#interp. a student´s standing in a class, \n",
    "# one of SD for \"standing Deferred\", AUD for \"audit\", and W for \"withdraw\"\n",
    "\n",
    "#examples are redundant for enumerations\n",
    "\n",
    "@typecheck\n",
    "# template based on on of (3 cases) and atomic ditinct (3 times)\n",
    "def fn_for_standing(s: Standing) -> ...:\n",
    "    if s == Standing.SD:\n",
    "        return ...\n",
    "    elif s == Standing.AUD:\n",
    "        return ...\n",
    "    elif s == Standing.W:\n",
    "        return ...\n",
    "    "
   ]
  },
  {
   "cell_type": "markdown",
   "metadata": {},
   "source": [
    "Here, we are using enumaration. So we can remeber wht a template of enumration looks like. \n",
    "\n",
    "We are using the capital letter now for data design when writting Standing, because it is not primitive. It is something we created. It is a type of data, not a variable. \n",
    "\n",
    "\n",
    "How are we representing info as data?\n",
    "\n",
    "* We don´t need examples because we already set them out. W, AUD, and SD. We expressed all the possible values it can take. \n",
    "* enumarations are one-of's. So we will always use the same form.\n",
    "    \n",
    "    \n",
    "    Atmoc distinct: one particular value: W, AUD, SD\n",
    " "
   ]
  },
  {
   "cell_type": "code",
   "execution_count": null,
   "metadata": {},
   "outputs": [],
   "source": [
    "@typecheck\n",
    "def still_working(s: Standing) -> bool:\n",
    "    \"\"\"\n",
    "    returns True if the student withstanding s is still working on the course where they earned that standing, \n",
    "    False of they're done.\n",
    "    \"\"\"\n",
    "    \n",
    "    # return True #stub\n",
    "    # template from Standing\n",
    "    if s == Standing.SD:\n",
    "        return True\n",
    "    elif s == Standing.AUD:\n",
    "        return False\n",
    "    elif s == Standing.W:\n",
    "        return False\n",
    "\n",
    "start_testing()\n",
    "expect(still_working(Standing.SD), True)\n",
    "expect(still_working(Standing.AUD), False)\n",
    "expect(still_working(Standing.W), False)\n",
    "\n",
    "summary()"
   ]
  },
  {
   "cell_type": "markdown",
   "metadata": {},
   "source": [
    "*We only have standing so we only need 3 examples\n",
    "\n",
    "We look at parameter list to analyze which template we need to use. So we use the template of standings by copy paste.\n",
    "\n",
    "** You can write out many functions with only one designed data**\n"
   ]
  },
  {
   "cell_type": "code",
   "execution_count": null,
   "metadata": {},
   "outputs": [],
   "source": [
    "@typecheck\n",
    "def describe_standing(s: Standing) -> str:\n",
    "    \"\"\"\n",
    "    returns an English description for s\n",
    "    \"\"\"\n",
    "    \n",
    "    return \"yes\" #stub"
   ]
  },
  {
   "cell_type": "markdown",
   "metadata": {},
   "source": [
    "## Worksheet:\n",
    "\n",
    "**Design a complete data definition to represent the temperature shown on a thermometer that goes from -50 to 50 degrees Celsius.**\n"
   ]
  },
  {
   "cell_type": "code",
   "execution_count": null,
   "metadata": {},
   "outputs": [],
   "source": [
    "Temperature = float # in range [-50, 50]\n",
    "# interprets the temperature in degrees celcius\n",
    "\n",
    "T1 = 45\n",
    "T2 = -50\n",
    "T3 = 50\n",
    "T4 = 0\n",
    "\n",
    "# template based on Atmoc Non-Distinct\n",
    "def fn_for_temperature(t: Temperature) -> ...:\n",
    "    return ...(t) "
   ]
  },
  {
   "cell_type": "markdown",
   "metadata": {},
   "source": [
    "**Design a function that determines whether it's a comfortable temperature for people**"
   ]
  },
  {
   "cell_type": "code",
   "execution_count": null,
   "metadata": {},
   "outputs": [],
   "source": [
    "@typecheck\n",
    "\n",
    "def comfortable_temperature(t: Temperature) -> bool:\n",
    "    \"\"\"\n",
    "    returns True if temperature is between [14, 28] (comfortable for people), False otherwise\n",
    "    \"\"\"\n",
    "    # return False #stub\n",
    "    # template from Temperature\n",
    "    \n",
    "    if 14 <= t <= 28:\n",
    "        return True\n",
    "    else:\n",
    "        return False\n",
    "\n",
    "start_testing()\n",
    "expect(comfortable_temperature(-50), False)\n",
    "expect(comfortable_temperature(- 20), False)\n",
    "expect(comfortable_temperature(0), False)\n",
    "expect(comfortable_temperature(25), True)\n",
    "expect(comfortable_temperature(28), True)\n",
    "expect(comfortable_temperature(29), False)\n",
    "expect(comfortable_temperature(50), False)\n",
    "\n",
    "summary()\n"
   ]
  },
  {
   "cell_type": "markdown",
   "metadata": {},
   "source": [
    "**Complete the design of a function that takes a Position(from Problem 10) and returns an image of the medal the runner would receive. If the runner finishes, they receive a blue medal with a yellow triangle on it that’s proportional to their position (1stplace would have a big triangle, 500thplace would havea small triangle). If they did not finish, they receive a red participation medal. Be sure to follow the HtDF recipe.**"
   ]
  },
  {
   "cell_type": "code",
   "execution_count": 3,
   "metadata": {
    "scrolled": true
   },
   "outputs": [
    {
     "ename": "NameError",
     "evalue": "name 'Position' is not defined",
     "output_type": "error",
     "traceback": [
      "\u001b[0;31m---------------------------------------------------------------------------\u001b[0m",
      "\u001b[0;31mNameError\u001b[0m                                 Traceback (most recent call last)",
      "\u001b[0;32m<ipython-input-3-fd02374fc698>\u001b[0m in \u001b[0;36m<module>\u001b[0;34m()\u001b[0m\n\u001b[1;32m      1\u001b[0m \u001b[0;34m@\u001b[0m\u001b[0mtypecheck\u001b[0m\u001b[0;34m\u001b[0m\u001b[0m\n\u001b[1;32m      2\u001b[0m \u001b[0;34m\u001b[0m\u001b[0m\n\u001b[0;32m----> 3\u001b[0;31m \u001b[0;32mdef\u001b[0m \u001b[0mmedal\u001b[0m\u001b[0;34m(\u001b[0m\u001b[0mp\u001b[0m\u001b[0;34m:\u001b[0m \u001b[0mPosition\u001b[0m\u001b[0;34m)\u001b[0m \u001b[0;34m->\u001b[0m \u001b[0mImage\u001b[0m\u001b[0;34m:\u001b[0m\u001b[0;34m\u001b[0m\u001b[0m\n\u001b[0m\u001b[1;32m      4\u001b[0m     \"\"\"\n\u001b[1;32m      5\u001b[0m     \u001b[0;32mreturn\u001b[0m \u001b[0man\u001b[0m \u001b[0mimage\u001b[0m \u001b[0mof\u001b[0m \u001b[0mthe\u001b[0m \u001b[0mmedal\u001b[0m \u001b[0ma\u001b[0m \u001b[0mrunner\u001b[0m \u001b[0;32min\u001b[0m \u001b[0ma\u001b[0m \u001b[0mposition\u001b[0m \u001b[0mP\u001b[0m \u001b[0mwould\u001b[0m \u001b[0mrecieve\u001b[0m\u001b[0;34m\u001b[0m\u001b[0m\n",
      "\u001b[0;31mNameError\u001b[0m: name 'Position' is not defined"
     ]
    }
   ],
   "source": [
    "@typecheck\n",
    "\n",
    "def medal(p: Position) -> Image: \n",
    "    \"\"\"\n",
    "    return an image of the medal a runner in a position P would recieve\n",
    "    \"\"\"\n",
    "    \n",
    "    return circle(10, \"solid\", \"blue\") #stub\n",
    "\n",
    "start_testing()\n",
    "expect(medal(1), above(triangle(30, 20, \"solid\", \"yellow\"), circle(40, \"solid\", \"blue\")))\n",
    "expect(medal(500), above(triangle(10, 5, \"solid\", \"yellow\"), circle(40, \"solid\", \"blue\")))\n",
    "expect(medal(), above(triangle(0, 0, \"solid\", \"yellow\"), circle(40, \"solid\", \"red\")))\n",
    "\n",
    "summary()"
   ]
  },
  {
   "cell_type": "markdown",
   "metadata": {},
   "source": [
    "**Design a data definition for a person's middle name. Some people have a middle name and some don't. Think carefully about how you want to represent this information. (For the purposes of this problem we'll assume that people have at most one middle name even though that is not true in reality.)**\n",
    "\n",
    "**In your design, be sure to follow all steps of the HtDD recipe.**"
   ]
  },
  {
   "cell_type": "code",
   "execution_count": 7,
   "metadata": {},
   "outputs": [],
   "source": [
    "from typing import Optional\n",
    "\n",
    "Middle_Name = Optional[str]\n",
    "    #interp. the middle name of a person, whether they have one or not (None)\n",
    "\n",
    "MN: \"Robert\"\n",
    "MN: \"Maria\"\n",
    "MN: \"Pablo\"\n",
    "MN: None\n",
    "    \n",
    "# template based on one-of (2 cases), atomic distinct and non-atomic distinct\n",
    "def fn_for_Middle_Name(mn: Middle_Name) -> ...:\n",
    "        if ln == None:\n",
    "            return ...\n",
    "        else:\n",
    "            return ...(mn)"
   ]
  },
  {
   "cell_type": "markdown",
   "metadata": {},
   "source": [
    "Remember to define the function in CamelCase\n",
    "Remmebr to put None in one of the examples\n",
    "Remmeber to define in the template, c as ln or etc. "
   ]
  }
 ],
 "metadata": {
  "kernelspec": {
   "display_name": "Python 3",
   "language": "python",
   "name": "python3"
  },
  "language_info": {
   "codemirror_mode": {
    "name": "ipython",
    "version": 3
   },
   "file_extension": ".py",
   "mimetype": "text/x-python",
   "name": "python",
   "nbconvert_exporter": "python",
   "pygments_lexer": "ipython3",
   "version": "3.6.6"
  }
 },
 "nbformat": 4,
 "nbformat_minor": 2
}
