{
 "cells": [
  {
   "cell_type": "markdown",
   "metadata": {},
   "source": [
    "# Setup\n",
    "\n",
    "We have some course-specific functionality that we need to add to your Jupyter environment. You need to run the code in the next cell in order to set up your Jupyter environment for the course. You should only need to do this once and then you will be able to use our course-specific functionality for the duration of the course in any notebook that you create.\n",
    "\n",
    "Remember, to run a code cell like this one, click on the code cell and then click on the run button at the top. You should expect this code cell to take a few moments to run. It may produce a warning message or two about \"fonts\", which you can safely ignore. When it finishes successfully, it should produce a message telling you that everything went well and you're ready to program in Python in CPSC 103!"
   ]
  },
  {
   "cell_type": "code",
   "execution_count": 1,
   "metadata": {
    "scrolled": true
   },
   "outputs": [
    {
     "name": "stdout",
     "output_type": "stream",
     "text": [
      "Starting setup...\n",
      "\u001b[33mYou may see a couple of warnings about fonts; this is normal!\n",
      "\n",
      "\u001b[31m✗ Unexpected error! Please contact course staff\n"
     ]
    }
   ],
   "source": [
    "print(\"Starting setup...\")\n",
    "print(\"\\x1b[33m\" + \"You may see a couple of warnings about fonts; this is normal!\")\n",
    "print()\n",
    "\n",
    "%matplotlib inline\n",
    "\n",
    "try:\n",
    "    from cs103 import *\n",
    "    custom_init()\n",
    "    print(\"\\x1b[36m\" + \"\\u2713 Setup succeeded! :)\")\n",
    "except:\n",
    "    print(\"\\x1b[31m\" + \"\\u2717 Unexpected error! Please contact course staff\")"
   ]
  },
  {
   "cell_type": "code",
   "execution_count": null,
   "metadata": {},
   "outputs": [],
   "source": []
  }
 ],
 "metadata": {
  "kernelspec": {
   "display_name": "Python 3",
   "language": "python",
   "name": "python3"
  },
  "language_info": {
   "codemirror_mode": {
    "name": "ipython",
    "version": 3
   },
   "file_extension": ".py",
   "mimetype": "text/x-python",
   "name": "python",
   "nbconvert_exporter": "python",
   "pygments_lexer": "ipython3",
   "version": "3.6.5"
  }
 },
 "nbformat": 4,
 "nbformat_minor": 1
}
